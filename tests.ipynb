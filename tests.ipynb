{
 "cells": [
  {
   "cell_type": "markdown",
   "metadata": {},
   "source": [
    "# EXPLORATORY DATA ANALYSIS"
   ]
  },
  {
   "cell_type": "markdown",
   "metadata": {},
   "source": [
    "#### IMPORT DES DONNEES"
   ]
  },
  {
   "cell_type": "code",
   "execution_count": 1,
   "metadata": {},
   "outputs": [
    {
     "data": {
      "text/html": [
       "<div>\n",
       "<style scoped>\n",
       "    .dataframe tbody tr th:only-of-type {\n",
       "        vertical-align: middle;\n",
       "    }\n",
       "\n",
       "    .dataframe tbody tr th {\n",
       "        vertical-align: top;\n",
       "    }\n",
       "\n",
       "    .dataframe thead th {\n",
       "        text-align: right;\n",
       "    }\n",
       "</style>\n",
       "<table border=\"1\" class=\"dataframe\">\n",
       "  <thead>\n",
       "    <tr style=\"text-align: right;\">\n",
       "      <th></th>\n",
       "      <th>LoanNr_ChkDgt</th>\n",
       "      <th>Name</th>\n",
       "      <th>City</th>\n",
       "      <th>State</th>\n",
       "      <th>Zip</th>\n",
       "      <th>Bank</th>\n",
       "      <th>BankState</th>\n",
       "      <th>NAICS</th>\n",
       "      <th>ApprovalDate</th>\n",
       "      <th>ApprovalFY</th>\n",
       "      <th>...</th>\n",
       "      <th>NewExist</th>\n",
       "      <th>CreateJob</th>\n",
       "      <th>RetainedJob</th>\n",
       "      <th>FranchiseCode</th>\n",
       "      <th>UrbanRural</th>\n",
       "      <th>RevLineCr</th>\n",
       "      <th>LowDoc</th>\n",
       "      <th>MIS_Status</th>\n",
       "      <th>GrAppv</th>\n",
       "      <th>SBA_Appv</th>\n",
       "    </tr>\n",
       "  </thead>\n",
       "  <tbody>\n",
       "    <tr>\n",
       "      <th>0</th>\n",
       "      <td>1000014003</td>\n",
       "      <td>ABC HOBBYCRAFT</td>\n",
       "      <td>EVANSVILLE</td>\n",
       "      <td>IN</td>\n",
       "      <td>47711</td>\n",
       "      <td>FIFTH THIRD BANK</td>\n",
       "      <td>OH</td>\n",
       "      <td>451120</td>\n",
       "      <td>28-Feb-97</td>\n",
       "      <td>1997</td>\n",
       "      <td>...</td>\n",
       "      <td>2.0</td>\n",
       "      <td>0</td>\n",
       "      <td>0</td>\n",
       "      <td>1</td>\n",
       "      <td>0</td>\n",
       "      <td>N</td>\n",
       "      <td>Y</td>\n",
       "      <td>P I F</td>\n",
       "      <td>$60,000.00</td>\n",
       "      <td>$48,000.00</td>\n",
       "    </tr>\n",
       "    <tr>\n",
       "      <th>1</th>\n",
       "      <td>1000024006</td>\n",
       "      <td>LANDMARK BAR &amp; GRILLE (THE)</td>\n",
       "      <td>NEW PARIS</td>\n",
       "      <td>IN</td>\n",
       "      <td>46526</td>\n",
       "      <td>1ST SOURCE BANK</td>\n",
       "      <td>IN</td>\n",
       "      <td>722410</td>\n",
       "      <td>28-Feb-97</td>\n",
       "      <td>1997</td>\n",
       "      <td>...</td>\n",
       "      <td>2.0</td>\n",
       "      <td>0</td>\n",
       "      <td>0</td>\n",
       "      <td>1</td>\n",
       "      <td>0</td>\n",
       "      <td>N</td>\n",
       "      <td>Y</td>\n",
       "      <td>P I F</td>\n",
       "      <td>$40,000.00</td>\n",
       "      <td>$32,000.00</td>\n",
       "    </tr>\n",
       "    <tr>\n",
       "      <th>2</th>\n",
       "      <td>1000034009</td>\n",
       "      <td>WHITLOCK DDS, TODD M.</td>\n",
       "      <td>BLOOMINGTON</td>\n",
       "      <td>IN</td>\n",
       "      <td>47401</td>\n",
       "      <td>GRANT COUNTY STATE BANK</td>\n",
       "      <td>IN</td>\n",
       "      <td>621210</td>\n",
       "      <td>28-Feb-97</td>\n",
       "      <td>1997</td>\n",
       "      <td>...</td>\n",
       "      <td>1.0</td>\n",
       "      <td>0</td>\n",
       "      <td>0</td>\n",
       "      <td>1</td>\n",
       "      <td>0</td>\n",
       "      <td>N</td>\n",
       "      <td>N</td>\n",
       "      <td>P I F</td>\n",
       "      <td>$287,000.00</td>\n",
       "      <td>$215,250.00</td>\n",
       "    </tr>\n",
       "  </tbody>\n",
       "</table>\n",
       "<p>3 rows × 22 columns</p>\n",
       "</div>"
      ],
      "text/plain": [
       "   LoanNr_ChkDgt                         Name         City State    Zip  \\\n",
       "0     1000014003               ABC HOBBYCRAFT   EVANSVILLE    IN  47711   \n",
       "1     1000024006  LANDMARK BAR & GRILLE (THE)    NEW PARIS    IN  46526   \n",
       "2     1000034009        WHITLOCK DDS, TODD M.  BLOOMINGTON    IN  47401   \n",
       "\n",
       "                      Bank BankState   NAICS ApprovalDate ApprovalFY  ...  \\\n",
       "0         FIFTH THIRD BANK        OH  451120    28-Feb-97       1997  ...   \n",
       "1          1ST SOURCE BANK        IN  722410    28-Feb-97       1997  ...   \n",
       "2  GRANT COUNTY STATE BANK        IN  621210    28-Feb-97       1997  ...   \n",
       "\n",
       "   NewExist  CreateJob  RetainedJob  FranchiseCode  UrbanRural  RevLineCr  \\\n",
       "0       2.0          0            0              1           0          N   \n",
       "1       2.0          0            0              1           0          N   \n",
       "2       1.0          0            0              1           0          N   \n",
       "\n",
       "   LowDoc MIS_Status        GrAppv      SBA_Appv  \n",
       "0       Y      P I F   $60,000.00    $48,000.00   \n",
       "1       Y      P I F   $40,000.00    $32,000.00   \n",
       "2       N      P I F  $287,000.00   $215,250.00   \n",
       "\n",
       "[3 rows x 22 columns]"
      ]
     },
     "execution_count": 1,
     "metadata": {},
     "output_type": "execute_result"
    }
   ],
   "source": [
    "import pandas as pd\n",
    "\n",
    "df = pd.read_csv(\"../SBAnational.csv\", low_memory=False)\n",
    "data = df.copy()\n",
    "data = data.drop(['ChgOffDate', 'DisbursementDate', 'DisbursementGross','BalanceGross', 'ChgOffPrinGr'], axis=1)\n",
    "data.head(3)"
   ]
  },
  {
   "cell_type": "code",
   "execution_count": 2,
   "metadata": {},
   "outputs": [
    {
     "data": {
      "text/html": [
       "<div>\n",
       "<style scoped>\n",
       "    .dataframe tbody tr th:only-of-type {\n",
       "        vertical-align: middle;\n",
       "    }\n",
       "\n",
       "    .dataframe tbody tr th {\n",
       "        vertical-align: top;\n",
       "    }\n",
       "\n",
       "    .dataframe thead th {\n",
       "        text-align: right;\n",
       "    }\n",
       "</style>\n",
       "<table border=\"1\" class=\"dataframe\">\n",
       "  <thead>\n",
       "    <tr style=\"text-align: right;\">\n",
       "      <th></th>\n",
       "      <th>Description</th>\n",
       "      <th>NAICS_id</th>\n",
       "    </tr>\n",
       "  </thead>\n",
       "  <tbody>\n",
       "    <tr>\n",
       "      <th>0</th>\n",
       "      <td>Mining, quarrying, and oil and gas extraction</td>\n",
       "      <td>21</td>\n",
       "    </tr>\n",
       "    <tr>\n",
       "      <th>1</th>\n",
       "      <td>Agriculture, forestry, fishing and hunting</td>\n",
       "      <td>11</td>\n",
       "    </tr>\n",
       "    <tr>\n",
       "      <th>2</th>\n",
       "      <td>Management of companies and enterprises</td>\n",
       "      <td>55</td>\n",
       "    </tr>\n",
       "    <tr>\n",
       "      <th>3</th>\n",
       "      <td>Health care and social assistance</td>\n",
       "      <td>62</td>\n",
       "    </tr>\n",
       "    <tr>\n",
       "      <th>4</th>\n",
       "      <td>Utilities</td>\n",
       "      <td>22</td>\n",
       "    </tr>\n",
       "  </tbody>\n",
       "</table>\n",
       "</div>"
      ],
      "text/plain": [
       "                                     Description  NAICS_id\n",
       "0  Mining, quarrying, and oil and gas extraction        21\n",
       "1     Agriculture, forestry, fishing and hunting        11\n",
       "2        Management of companies and enterprises        55\n",
       "3              Health care and social assistance        62\n",
       "4                                      Utilities        22"
      ]
     },
     "execution_count": 2,
     "metadata": {},
     "output_type": "execute_result"
    }
   ],
   "source": [
    "data_secteurs = pd.read_csv(\"../csv_secteursactivite.csv\")\n",
    "data_secteurs = data_secteurs.drop(\"Default rate (%)\", axis=1)\n",
    "\n",
    "# Modification de certaines valeurs \n",
    "mapping = {\"31–33\": \"31\", \"44–45\": \"44\", \"48–49\": \"48\"}\n",
    "data_secteurs['2 digit code'] = data_secteurs['2 digit code'].replace(mapping)\n",
    "\n",
    "# Création et Ajout de nouvelles lignes\n",
    "nouvelles_lignes = [{'2 digit code': 32, 'Description': 'Manufacturing'},\n",
    "                    {'2 digit code': 33, 'Description': 'Manufacturing'},\n",
    "                    {'2 digit code': 45, 'Description': 'Retail trade'},\n",
    "                    {'2 digit code': 49, 'Description': 'Transportation and warehousing'}]\n",
    "\n",
    "# data_secteurs = data_secteurs.append(nouvelles_lignes, ignore_index=True)\n",
    "\n",
    "# Concaténation\n",
    "nouvelles_lignes_df = pd.DataFrame(nouvelles_lignes)\n",
    "data_secteurs = pd.concat([data_secteurs, nouvelles_lignes_df], ignore_index=True)\n",
    "\n",
    "# Conversion de la variable en int\n",
    "data_secteurs[\"NAICS_id\"] = data_secteurs[\"2 digit code\"].astype(int)\n",
    "data_secteurs = data_secteurs.drop(\"2 digit code\", axis=1)\n",
    "data_secteurs.head(5)"
   ]
  },
  {
   "cell_type": "markdown",
   "metadata": {},
   "source": [
    "### SWEETVIZ"
   ]
  },
  {
   "cell_type": "code",
   "execution_count": 3,
   "metadata": {},
   "outputs": [],
   "source": [
    "# import sweetviz as sv\n",
    "# df_test['ApprovalFY'] = pd.to_numeric(df_test['ApprovalFY'], errors='coerce')\n",
    "# my_report = sv.analyze(df_test)\n",
    "# my_report.show_html() # Default arguments will generate to \"SWEETVIZ_REPORT.html\""
   ]
  },
  {
   "cell_type": "markdown",
   "metadata": {},
   "source": [
    "### YDATA"
   ]
  },
  {
   "cell_type": "code",
   "execution_count": 4,
   "metadata": {},
   "outputs": [],
   "source": [
    "# from ydata_profiling import ProfileReport\n",
    "# profile = ProfileReport(df, title=\"Profiling Report\")\n",
    "# profile"
   ]
  },
  {
   "cell_type": "markdown",
   "metadata": {},
   "source": [
    "### NETTOYAGE DES DONNEES"
   ]
  },
  {
   "cell_type": "code",
   "execution_count": 5,
   "metadata": {},
   "outputs": [],
   "source": [
    "# CONVERSION DES VARIABLES GrAppv ET SBA_Appv EN FORMAT FLOAT\n",
    "def amount_to_float(s: str) -> float:\n",
    "    \"\"\"Converts a 'string' amount in $ to its float value\"\"\"\n",
    "    return float(s[1:].replace(',', ''))\n",
    "\n",
    "data[\"GrAppv\"] = data[\"GrAppv\"].apply(amount_to_float)\n",
    "data[\"SBA_Appv\"] = data[\"SBA_Appv\"].apply(amount_to_float)"
   ]
  },
  {
   "cell_type": "code",
   "execution_count": 6,
   "metadata": {},
   "outputs": [],
   "source": [
    "# CONVERSION DE LA VARIABLE ApprovalFY EN FORMAT INTEGER\n",
    "def str_to_int(s: str) -> int:\n",
    "    \"\"\"Converts a 'string' digit into an integer and deletes string characters if necessary\"\"\"\n",
    "    s = ''.join(char for char in str(s) if char.isdigit())\n",
    "    return int(s) if s else None\n",
    "\n",
    "data[\"ApprovalFY\"] = data[\"ApprovalFY\"].apply(str_to_int)"
   ]
  },
  {
   "cell_type": "code",
   "execution_count": 7,
   "metadata": {},
   "outputs": [],
   "source": [
    "# CONVERSION DE LA VARIABLE ApprovalDate EN FORMAT DATETIME\n",
    "data['ApprovalDate'] = pd.to_datetime(data['ApprovalDate'], errors='coerce')"
   ]
  },
  {
   "cell_type": "code",
   "execution_count": 8,
   "metadata": {},
   "outputs": [
    {
     "data": {
      "text/html": [
       "<div>\n",
       "<style scoped>\n",
       "    .dataframe tbody tr th:only-of-type {\n",
       "        vertical-align: middle;\n",
       "    }\n",
       "\n",
       "    .dataframe tbody tr th {\n",
       "        vertical-align: top;\n",
       "    }\n",
       "\n",
       "    .dataframe thead th {\n",
       "        text-align: right;\n",
       "    }\n",
       "</style>\n",
       "<table border=\"1\" class=\"dataframe\">\n",
       "  <thead>\n",
       "    <tr style=\"text-align: right;\">\n",
       "      <th></th>\n",
       "      <th>LoanNr_ChkDgt</th>\n",
       "      <th>Name</th>\n",
       "      <th>City</th>\n",
       "      <th>State</th>\n",
       "      <th>Zip</th>\n",
       "      <th>Bank</th>\n",
       "      <th>BankState</th>\n",
       "      <th>NAICS</th>\n",
       "      <th>ApprovalDate</th>\n",
       "      <th>ApprovalFY</th>\n",
       "      <th>...</th>\n",
       "      <th>CreateJob</th>\n",
       "      <th>RetainedJob</th>\n",
       "      <th>FranchiseCode</th>\n",
       "      <th>UrbanRural</th>\n",
       "      <th>RevLineCr</th>\n",
       "      <th>LowDoc</th>\n",
       "      <th>MIS_Status</th>\n",
       "      <th>GrAppv</th>\n",
       "      <th>SBA_Appv</th>\n",
       "      <th>Description</th>\n",
       "    </tr>\n",
       "  </thead>\n",
       "  <tbody>\n",
       "    <tr>\n",
       "      <th>0</th>\n",
       "      <td>1000014003</td>\n",
       "      <td>ABC HOBBYCRAFT</td>\n",
       "      <td>EVANSVILLE</td>\n",
       "      <td>IN</td>\n",
       "      <td>47711</td>\n",
       "      <td>FIFTH THIRD BANK</td>\n",
       "      <td>OH</td>\n",
       "      <td>451120</td>\n",
       "      <td>1997-02-28</td>\n",
       "      <td>1997</td>\n",
       "      <td>...</td>\n",
       "      <td>0</td>\n",
       "      <td>0</td>\n",
       "      <td>1</td>\n",
       "      <td>0</td>\n",
       "      <td>N</td>\n",
       "      <td>Y</td>\n",
       "      <td>P I F</td>\n",
       "      <td>60000.0</td>\n",
       "      <td>48000.0</td>\n",
       "      <td>Retail trade</td>\n",
       "    </tr>\n",
       "  </tbody>\n",
       "</table>\n",
       "<p>1 rows × 23 columns</p>\n",
       "</div>"
      ],
      "text/plain": [
       "   LoanNr_ChkDgt            Name        City State    Zip              Bank  \\\n",
       "0     1000014003  ABC HOBBYCRAFT  EVANSVILLE    IN  47711  FIFTH THIRD BANK   \n",
       "\n",
       "  BankState   NAICS ApprovalDate  ApprovalFY  ...  CreateJob  RetainedJob  \\\n",
       "0        OH  451120   1997-02-28        1997  ...          0            0   \n",
       "\n",
       "   FranchiseCode  UrbanRural  RevLineCr  LowDoc  MIS_Status   GrAppv SBA_Appv  \\\n",
       "0              1           0          N       Y       P I F  60000.0  48000.0   \n",
       "\n",
       "    Description  \n",
       "0  Retail trade  \n",
       "\n",
       "[1 rows x 23 columns]"
      ]
     },
     "execution_count": 8,
     "metadata": {},
     "output_type": "execute_result"
    }
   ],
   "source": [
    "# CREATION D'UNE AUTRE COLONNE NAICS \n",
    "data['NAICS_id'] = data['NAICS'].copy()\n",
    "data['NAICS_id'] = data['NAICS_id'].astype(str).str[:2]\n",
    "data['NAICS_id'] = data['NAICS_id'].astype(int)\n",
    "\n",
    "# MERGE AVEC LE DATASET DES SECTEURS D'ACTIVITE\n",
    "dataset = pd.merge(data, data_secteurs, on='NAICS_id', how='outer')\n",
    "\n",
    "# SUPPRESSION DE LA COLONNE\n",
    "dataset = dataset.drop('NAICS_id', axis=1).head(1)\n",
    "dataset.head(1)"
   ]
  },
  {
   "cell_type": "code",
   "execution_count": 9,
   "metadata": {},
   "outputs": [
    {
     "data": {
      "text/plain": [
       "LoanNr_ChkDgt             int64\n",
       "Name                     object\n",
       "City                     object\n",
       "State                    object\n",
       "Zip                       int64\n",
       "Bank                     object\n",
       "BankState                object\n",
       "NAICS                     int64\n",
       "ApprovalDate     datetime64[ns]\n",
       "ApprovalFY                int64\n",
       "Term                      int64\n",
       "NoEmp                     int64\n",
       "NewExist                float64\n",
       "CreateJob                 int64\n",
       "RetainedJob               int64\n",
       "FranchiseCode             int64\n",
       "UrbanRural                int64\n",
       "RevLineCr                object\n",
       "LowDoc                   object\n",
       "MIS_Status               object\n",
       "GrAppv                  float64\n",
       "SBA_Appv                float64\n",
       "Description              object\n",
       "dtype: object"
      ]
     },
     "execution_count": 9,
     "metadata": {},
     "output_type": "execute_result"
    }
   ],
   "source": [
    "dataset.dtypes "
   ]
  },
  {
   "cell_type": "markdown",
   "metadata": {},
   "source": [
    "# MACHINE LEARNING"
   ]
  },
  {
   "cell_type": "markdown",
   "metadata": {},
   "source": [
    "### PYCARET"
   ]
  },
  {
   "cell_type": "code",
   "execution_count": 10,
   "metadata": {},
   "outputs": [],
   "source": [
    "# from pycaret.classification import *\n",
    "# df_test = data.copy()\n",
    "# df_test = df_test.dropna()\n",
    "# session = setup(data=df_test, target='MIS_Status', normalize=True, train_size=0.8, data_split_stratify=True, fold=5, session_id=0)"
   ]
  },
  {
   "cell_type": "code",
   "execution_count": 11,
   "metadata": {},
   "outputs": [],
   "source": [
    "# top_models = compare_models(sort=\"Accuracy\")\n",
    "# print(top_models)"
   ]
  }
 ],
 "metadata": {
  "kernelspec": {
   "display_name": "Python 3",
   "language": "python",
   "name": "python3"
  },
  "language_info": {
   "codemirror_mode": {
    "name": "ipython",
    "version": 3
   },
   "file_extension": ".py",
   "mimetype": "text/x-python",
   "name": "python",
   "nbconvert_exporter": "python",
   "pygments_lexer": "ipython3",
   "version": "3.9.13"
  }
 },
 "nbformat": 4,
 "nbformat_minor": 2
}
