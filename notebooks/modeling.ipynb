{
 "cells": [
  {
   "cell_type": "markdown",
   "id": "33ef7e8e-be54-4bcc-8794-a00b220944b0",
   "metadata": {},
   "source": [
    "# Imports And Settings"
   ]
  },
  {
   "cell_type": "code",
   "execution_count": 20,
   "id": "145ae62a-85d1-46a1-bda2-3277c970f59b",
   "metadata": {},
   "outputs": [],
   "source": [
    "import pandas as pd\n",
    "\n",
    "from sklearn.model_selection import train_test_split"
   ]
  },
  {
   "cell_type": "markdown",
   "id": "9a7825b1-07f2-45a4-868d-25007d3674f3",
   "metadata": {},
   "source": [
    "# Loading"
   ]
  },
  {
   "cell_type": "code",
   "execution_count": 14,
   "id": "69add2f5-49ab-41e2-b3db-fc1b8e56a149",
   "metadata": {},
   "outputs": [
    {
     "name": "stdout",
     "output_type": "stream",
     "text": [
      "CPU times: user 2.31 s, sys: 246 ms, total: 2.56 s\n",
      "Wall time: 2.56 s\n"
     ]
    }
   ],
   "source": [
    "%%time\n",
    "df = pd.read_csv(\"../data/cleaned_dataset.csv\", index_col=0)"
   ]
  },
  {
   "cell_type": "markdown",
   "id": "3a71710d-c46a-4608-b9a6-518047d0acba",
   "metadata": {},
   "source": [
    "# Droping Useless Columns"
   ]
  },
  {
   "cell_type": "code",
   "execution_count": 15,
   "id": "a0fd21bf-686d-4929-a23f-bd1987aafcfe",
   "metadata": {},
   "outputs": [],
   "source": [
    "df = df.drop(columns=['LoanNr_ChkDgt', 'Name'])"
   ]
  },
  {
   "cell_type": "markdown",
   "id": "b2ab50b7-7aef-4ccb-88e5-8587285f1e22",
   "metadata": {},
   "source": [
    "# Separating Features and Target"
   ]
  },
  {
   "cell_type": "code",
   "execution_count": 16,
   "id": "388f4fea-5def-467a-9b8a-10caeb564d69",
   "metadata": {},
   "outputs": [
    {
     "data": {
      "text/plain": [
       "Index(['City', 'State', 'Bank', 'BankState', 'SameState', 'NAICS',\n",
       "       'ApprovalMonth', 'ApprovalDoW', 'Recession', 'Term', 'NewExist',\n",
       "       'NoEmp', 'CreateJob', 'RetainedJob', 'Franchise', 'UrbanRural',\n",
       "       'RevLineCr', 'LowDoc', 'GrAppv', 'SBA_Appv', 'MIS_Status'],\n",
       "      dtype='object')"
      ]
     },
     "execution_count": 16,
     "metadata": {},
     "output_type": "execute_result"
    }
   ],
   "source": [
    "df.columns"
   ]
  },
  {
   "cell_type": "code",
   "execution_count": 17,
   "id": "0e1afc42-132c-4379-ba58-48961f419297",
   "metadata": {},
   "outputs": [],
   "source": [
    "X = df.copy()\n",
    "y = X.pop(\"MIS_Status\")"
   ]
  },
  {
   "cell_type": "markdown",
   "id": "635ae0a0-dcb7-4470-a5eb-862003660b7f",
   "metadata": {},
   "source": [
    "# Hold-Out"
   ]
  },
  {
   "cell_type": "code",
   "execution_count": 21,
   "id": "641b9260-0d5b-4fc9-bbbf-a3e4e67657d0",
   "metadata": {},
   "outputs": [
    {
     "data": {
      "text/plain": [
       "MIS_Status\n",
       "P I F     0.824377\n",
       "CHGOFF    0.175623\n",
       "Name: proportion, dtype: float64"
      ]
     },
     "execution_count": 21,
     "metadata": {},
     "output_type": "execute_result"
    }
   ],
   "source": [
    "y.value_counts(normalize=True)"
   ]
  },
  {
   "cell_type": "code",
   "execution_count": 22,
   "id": "6ad9fe2a-dda3-4191-9b9d-4420308b9864",
   "metadata": {},
   "outputs": [],
   "source": [
    "X_train, X_test, y_train, y_test = train_test_split(X, y,\n",
    "                                                    test_size=0.1,\n",
    "                                                    stratify=y)"
   ]
  },
  {
   "cell_type": "code",
   "execution_count": null,
   "id": "06f9f84d-854c-42f2-8410-77a005504790",
   "metadata": {},
   "outputs": [],
   "source": []
  }
 ],
 "metadata": {
  "kernelspec": {
   "display_name": "Python 3 (ipykernel)",
   "language": "python",
   "name": "python3"
  },
  "language_info": {
   "codemirror_mode": {
    "name": "ipython",
    "version": 3
   },
   "file_extension": ".py",
   "mimetype": "text/x-python",
   "name": "python",
   "nbconvert_exporter": "python",
   "pygments_lexer": "ipython3",
   "version": "3.10.12"
  }
 },
 "nbformat": 4,
 "nbformat_minor": 5
}
