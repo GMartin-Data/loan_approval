{
 "cells": [
  {
   "cell_type": "markdown",
   "id": "33ef7e8e-be54-4bcc-8794-a00b220944b0",
   "metadata": {},
   "source": [
    "# Imports And Settings"
   ]
  },
  {
   "cell_type": "code",
   "execution_count": 47,
   "id": "145ae62a-85d1-46a1-bda2-3277c970f59b",
   "metadata": {},
   "outputs": [],
   "source": [
    "import numpy as np\n",
    "import pandas as pd\n",
    "\n",
    "from sklearn.base import BaseEstimator, TransformerMixin\n",
    "from sklearn.compose import ColumnTransformer\n",
    "from sklearn.model_selection import train_test_split\n",
    "from sklearn.pipeline import make_pipeline\n",
    "from sklearn.preprocessing import OneHotEncoder, StandardScaler"
   ]
  },
  {
   "cell_type": "markdown",
   "id": "9a7825b1-07f2-45a4-868d-25007d3674f3",
   "metadata": {},
   "source": [
    "# Loading"
   ]
  },
  {
   "cell_type": "code",
   "execution_count": 14,
   "id": "69add2f5-49ab-41e2-b3db-fc1b8e56a149",
   "metadata": {},
   "outputs": [
    {
     "name": "stdout",
     "output_type": "stream",
     "text": [
      "CPU times: user 2.31 s, sys: 246 ms, total: 2.56 s\n",
      "Wall time: 2.56 s\n"
     ]
    }
   ],
   "source": [
    "%%time\n",
    "df = pd.read_csv(\"../data/cleaned_dataset.csv\", index_col=0)"
   ]
  },
  {
   "cell_type": "markdown",
   "id": "3a71710d-c46a-4608-b9a6-518047d0acba",
   "metadata": {},
   "source": [
    "# Droping Useless Columns"
   ]
  },
  {
   "cell_type": "code",
   "execution_count": 15,
   "id": "a0fd21bf-686d-4929-a23f-bd1987aafcfe",
   "metadata": {},
   "outputs": [],
   "source": [
    "df = df.drop(columns=['LoanNr_ChkDgt', 'Name'])"
   ]
  },
  {
   "cell_type": "markdown",
   "id": "b2ab50b7-7aef-4ccb-88e5-8587285f1e22",
   "metadata": {},
   "source": [
    "# Separating Features and Target"
   ]
  },
  {
   "cell_type": "code",
   "execution_count": 16,
   "id": "388f4fea-5def-467a-9b8a-10caeb564d69",
   "metadata": {},
   "outputs": [
    {
     "data": {
      "text/plain": [
       "Index(['City', 'State', 'Bank', 'BankState', 'SameState', 'NAICS',\n",
       "       'ApprovalMonth', 'ApprovalDoW', 'Recession', 'Term', 'NewExist',\n",
       "       'NoEmp', 'CreateJob', 'RetainedJob', 'Franchise', 'UrbanRural',\n",
       "       'RevLineCr', 'LowDoc', 'GrAppv', 'SBA_Appv', 'MIS_Status'],\n",
       "      dtype='object')"
      ]
     },
     "execution_count": 16,
     "metadata": {},
     "output_type": "execute_result"
    }
   ],
   "source": [
    "df.columns"
   ]
  },
  {
   "cell_type": "code",
   "execution_count": 17,
   "id": "0e1afc42-132c-4379-ba58-48961f419297",
   "metadata": {},
   "outputs": [],
   "source": [
    "X = df.copy()\n",
    "y = X.pop(\"MIS_Status\")"
   ]
  },
  {
   "cell_type": "markdown",
   "id": "635ae0a0-dcb7-4470-a5eb-862003660b7f",
   "metadata": {},
   "source": [
    "# Hold-Out"
   ]
  },
  {
   "cell_type": "code",
   "execution_count": 21,
   "id": "641b9260-0d5b-4fc9-bbbf-a3e4e67657d0",
   "metadata": {},
   "outputs": [
    {
     "data": {
      "text/plain": [
       "MIS_Status\n",
       "P I F     0.824377\n",
       "CHGOFF    0.175623\n",
       "Name: proportion, dtype: float64"
      ]
     },
     "execution_count": 21,
     "metadata": {},
     "output_type": "execute_result"
    }
   ],
   "source": [
    "y.value_counts(normalize=True)"
   ]
  },
  {
   "cell_type": "code",
   "execution_count": 25,
   "id": "6ad9fe2a-dda3-4191-9b9d-4420308b9864",
   "metadata": {},
   "outputs": [],
   "source": [
    "# Stratify with y by default\n",
    "X_train, X_test, y_train, y_test = train_test_split(X, y,\n",
    "                                                    test_size=0.05,\n",
    "                                                    stratify=y)"
   ]
  },
  {
   "cell_type": "code",
   "execution_count": 26,
   "id": "06f9f84d-854c-42f2-8410-77a005504790",
   "metadata": {},
   "outputs": [
    {
     "data": {
      "text/plain": [
       "((852267, 20), (44857, 20), (852267,), (44857,))"
      ]
     },
     "execution_count": 26,
     "metadata": {},
     "output_type": "execute_result"
    }
   ],
   "source": [
    "X_train.shape, X_test.shape, y_train.shape, y_test.shape"
   ]
  },
  {
   "cell_type": "markdown",
   "id": "1ad446b8-18e5-4474-aa38-58b9329ab049",
   "metadata": {},
   "source": [
    "# Pipeline"
   ]
  },
  {
   "cell_type": "code",
   "execution_count": 34,
   "id": "75831060-26f0-4711-b82f-3199fb626451",
   "metadata": {},
   "outputs": [
    {
     "data": {
      "text/plain": [
       "City             32562\n",
       "State               51\n",
       "Bank              5801\n",
       "BankState           57\n",
       "SameState            2\n",
       "NAICS               21\n",
       "ApprovalMonth       12\n",
       "ApprovalDoW          7\n",
       "Recession            2\n",
       "Term               412\n",
       "NewExist             2\n",
       "NoEmp              598\n",
       "CreateJob          246\n",
       "RetainedJob        357\n",
       "Franchise            2\n",
       "UrbanRural           3\n",
       "RevLineCr            3\n",
       "LowDoc               2\n",
       "GrAppv           22101\n",
       "SBA_Appv         38288\n",
       "dtype: int64"
      ]
     },
     "execution_count": 34,
     "metadata": {},
     "output_type": "execute_result"
    }
   ],
   "source": [
    "X.nunique()"
   ]
  },
  {
   "cell_type": "code",
   "execution_count": 44,
   "id": "2f29348c-7730-48c4-a0e2-764b16b1774c",
   "metadata": {},
   "outputs": [],
   "source": [
    "# Splitting columns\n",
    "num_cols = [\"Term\", \"NoEmp\", \"CreateJob\", \"RetainedJob\",\n",
    "            \"GrAppv\", \"SBA_Appv\"]\n",
    "\n",
    "bin_cols = df.select_dtypes(\"bool\").columns\n",
    "\n",
    "nom_cols = [\"State\", \"BankState\", \"NAICS\",\n",
    "            \"UrbanRural\", \"RevLineCr\", \"LowDoc\"]\n",
    "\n",
    "cyc_cols = [\"ApprovalMonth\", \"ApprovalDoW\"]\n",
    "\n",
    "bin_enc_cols = [\"Bank\"]\n",
    "\n",
    "feat_hash_cols = [\"City\"]"
   ]
  },
  {
   "cell_type": "code",
   "execution_count": 45,
   "id": "aea3fcc6-7e94-4621-a0f5-fa52f6163b2d",
   "metadata": {},
   "outputs": [],
   "source": [
    "assert len(num_cols) + len(bin_cols) + len(nom_cols) + len(cyc_cols) + len(bin_enc_cols) + len(feat_hash_cols) == X.shape[1]"
   ]
  },
  {
   "cell_type": "markdown",
   "id": "26abd6a9-2a61-44e9-819b-b7596e3b2446",
   "metadata": {},
   "source": [
    "## \"Simple\" Nominal And Numerical Treats"
   ]
  },
  {
   "cell_type": "code",
   "execution_count": 46,
   "id": "04a5b438-713c-4ea7-8536-6cc52e564b89",
   "metadata": {},
   "outputs": [],
   "source": [
    "ohe_bin = OneHotEncoder(drop=\"if_binary\", sparse_output=False)\n",
    "ohe_nom = OneHotEncoder(drop=\"first\", sparse_output=False)\n",
    "std_scl = StandardScaler()"
   ]
  },
  {
   "cell_type": "markdown",
   "id": "09502c2c-96ad-4eda-be89-63f08fd4449f",
   "metadata": {},
   "source": [
    "## Cyclical Encoding"
   ]
  },
  {
   "cell_type": "code",
   "execution_count": 52,
   "id": "b66c5ca2-bf36-4a0c-879e-c3f36844fc4a",
   "metadata": {},
   "outputs": [],
   "source": [
    "class CyclicalEncoder(BaseEstimator, TransformerMixin):\n",
    "    \"\"\"Meant to encode time data with cycles (days of week, month...)\"\"\"\n",
    "    def __init__(self, column_name, cycle_length):\n",
    "        self.column_name = column_name\n",
    "        self.cycle_length = cycle_length\n",
    "    \n",
    "    def fit(self, X, y=None):\n",
    "        # No fitting needed, implemented for compatibility with sklearn's API\n",
    "        return self\n",
    "        \n",
    "    def transform(self, X, y=None):\n",
    "        # Apply cyclical encoding directly without needing to fit\n",
    "        X = X.copy()\n",
    "        values = X[self.column_name]\n",
    "        # Create the cyclical features\n",
    "        X[f'{self.column_name}_sin'] = np.sin(2 * np.pi * values / self.cycle_length)\n",
    "        X[f'{self.column_name}_cos'] = np.cos(2 * np.pi * values / self.cycle_length)\n",
    "        # Drop the original column\n",
    "        X.drop(columns=[self.column_name], inplace=True)\n",
    "        return X\n",
    "    \n",
    "    def get_feature_names_out(self, input_features=None):\n",
    "        # Generate names for the output features\n",
    "        return np.array(\n",
    "          [f'{self.column_name}_sin', f'{self.column_name}_cos'], dtype=object\n",
    "        )"
   ]
  },
  {
   "cell_type": "code",
   "execution_count": 53,
   "id": "43cec0ae-780a-4c2d-b2ce-bb6001d3766f",
   "metadata": {},
   "outputs": [],
   "source": [
    "cyc_dow = CyclicalEncoder(\"ApprovalDoW\", 7)\n",
    "cyc_mth = CyclicalEncoder(\"ApprovalMonth\", 12)"
   ]
  },
  {
   "cell_type": "code",
   "execution_count": null,
   "id": "fb7e9f15-55d1-48ae-8604-76fcdf030ad0",
   "metadata": {},
   "outputs": [],
   "source": []
  }
 ],
 "metadata": {
  "kernelspec": {
   "display_name": "Python 3 (ipykernel)",
   "language": "python",
   "name": "python3"
  },
  "language_info": {
   "codemirror_mode": {
    "name": "ipython",
    "version": 3
   },
   "file_extension": ".py",
   "mimetype": "text/x-python",
   "name": "python",
   "nbconvert_exporter": "python",
   "pygments_lexer": "ipython3",
   "version": "3.10.12"
  }
 },
 "nbformat": 4,
 "nbformat_minor": 5
}
