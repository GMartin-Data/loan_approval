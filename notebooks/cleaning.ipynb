{
 "cells": [
  {
   "cell_type": "markdown",
   "id": "0e05c53d-07ad-497e-9210-49fd835c9804",
   "metadata": {},
   "source": [
    "# Imports and Settings"
   ]
  },
  {
   "cell_type": "code",
   "execution_count": 1,
   "id": "355dc433-2b12-4cc0-8e15-90c3aa5230e2",
   "metadata": {},
   "outputs": [
    {
     "name": "stderr",
     "output_type": "stream",
     "text": [
      "/tmp/ipykernel_420960/3380158342.py:7: DeprecationWarning: \n",
      "Pyarrow will become a required dependency of pandas in the next major release of pandas (pandas 3.0),\n",
      "(to allow more performant data types, such as the Arrow string type, and better interoperability with other libraries)\n",
      "but was not found to be installed on your system.\n",
      "If this would cause problems for you,\n",
      "please provide us feedback at https://github.com/pandas-dev/pandas/issues/54466\n",
      "        \n",
      "  import pandas as pd\n"
     ]
    }
   ],
   "source": [
    "import os\n",
    "import sys\n",
    "\n",
    "import ipywidgets\n",
    "import matplotlib.pyplot as plt\n",
    "import numpy as np\n",
    "import pandas as pd"
   ]
  },
  {
   "cell_type": "markdown",
   "id": "bf06ec7a-bfbb-49b9-bc78-a4ed95f963bb",
   "metadata": {},
   "source": [
    "# Loading"
   ]
  },
  {
   "cell_type": "code",
   "execution_count": 2,
   "id": "683817a4-91aa-4270-b7f3-0c4977311e1c",
   "metadata": {},
   "outputs": [
    {
     "name": "stderr",
     "output_type": "stream",
     "text": [
      "<timed exec>:1: DtypeWarning: Columns (9) have mixed types. Specify dtype option on import or set low_memory=False.\n"
     ]
    },
    {
     "name": "stdout",
     "output_type": "stream",
     "text": [
      "CPU times: user 3.31 s, sys: 541 ms, total: 3.85 s\n",
      "Wall time: 3.85 s\n"
     ]
    }
   ],
   "source": [
    "%%time\n",
    "df = pd.read_csv(\"../data/SBAnational.csv\")"
   ]
  },
  {
   "cell_type": "markdown",
   "id": "10aaafef-fe64-4ae1-a2ac-5600296ce6cb",
   "metadata": {},
   "source": [
    "# Overview"
   ]
  },
  {
   "cell_type": "code",
   "execution_count": 3,
   "id": "dc9ae264-66e6-48af-a254-5407f0fef2ce",
   "metadata": {},
   "outputs": [
    {
     "name": "stdout",
     "output_type": "stream",
     "text": [
      "<class 'pandas.core.frame.DataFrame'>\n",
      "RangeIndex: 899164 entries, 0 to 899163\n",
      "Data columns (total 27 columns):\n",
      " #   Column             Non-Null Count   Dtype  \n",
      "---  ------             --------------   -----  \n",
      " 0   LoanNr_ChkDgt      899164 non-null  int64  \n",
      " 1   Name               899150 non-null  object \n",
      " 2   City               899134 non-null  object \n",
      " 3   State              899150 non-null  object \n",
      " 4   Zip                899164 non-null  int64  \n",
      " 5   Bank               897605 non-null  object \n",
      " 6   BankState          897598 non-null  object \n",
      " 7   NAICS              899164 non-null  int64  \n",
      " 8   ApprovalDate       899164 non-null  object \n",
      " 9   ApprovalFY         899164 non-null  object \n",
      " 10  Term               899164 non-null  int64  \n",
      " 11  NoEmp              899164 non-null  int64  \n",
      " 12  NewExist           899028 non-null  float64\n",
      " 13  CreateJob          899164 non-null  int64  \n",
      " 14  RetainedJob        899164 non-null  int64  \n",
      " 15  FranchiseCode      899164 non-null  int64  \n",
      " 16  UrbanRural         899164 non-null  int64  \n",
      " 17  RevLineCr          894636 non-null  object \n",
      " 18  LowDoc             896582 non-null  object \n",
      " 19  ChgOffDate         162699 non-null  object \n",
      " 20  DisbursementDate   896796 non-null  object \n",
      " 21  DisbursementGross  899164 non-null  object \n",
      " 22  BalanceGross       899164 non-null  object \n",
      " 23  MIS_Status         897167 non-null  object \n",
      " 24  ChgOffPrinGr       899164 non-null  object \n",
      " 25  GrAppv             899164 non-null  object \n",
      " 26  SBA_Appv           899164 non-null  object \n",
      "dtypes: float64(1), int64(9), object(17)\n",
      "memory usage: 185.2+ MB\n"
     ]
    }
   ],
   "source": [
    "df.info()"
   ]
  },
  {
   "cell_type": "markdown",
   "id": "e78ce83b-e2e3-4480-ae37-307ea2191f45",
   "metadata": {},
   "source": [
    "# Fix Anomalies"
   ]
  },
  {
   "cell_type": "code",
   "execution_count": 4,
   "id": "5a2f457e-3e1d-4169-8113-8bc8ac00adb5",
   "metadata": {},
   "outputs": [],
   "source": [
    "def amount_to_float(s: str) -> float:\n",
    "    \"\"\"Converts a 'string' amount in $ to its float value\"\"\"\n",
    "    return float(s[1:].replace(',', ''))"
   ]
  },
  {
   "cell_type": "code",
   "execution_count": 5,
   "id": "cdb7fed8-3c46-4f70-9dc2-38ae0cd887ec",
   "metadata": {},
   "outputs": [],
   "source": [
    "df.ChgOffPrinGr = df.ChgOffPrinGr.map(amount_to_float)"
   ]
  },
  {
   "cell_type": "code",
   "execution_count": 6,
   "id": "d3541016-1cbd-48b4-ba9f-62d741e1b5b6",
   "metadata": {},
   "outputs": [
    {
     "data": {
      "text/html": [
       "<div>\n",
       "<style scoped>\n",
       "    .dataframe tbody tr th:only-of-type {\n",
       "        vertical-align: middle;\n",
       "    }\n",
       "\n",
       "    .dataframe tbody tr th {\n",
       "        vertical-align: top;\n",
       "    }\n",
       "\n",
       "    .dataframe thead th {\n",
       "        text-align: right;\n",
       "    }\n",
       "</style>\n",
       "<table border=\"1\" class=\"dataframe\">\n",
       "  <thead>\n",
       "    <tr style=\"text-align: right;\">\n",
       "      <th></th>\n",
       "      <th>LoanNr_ChkDgt</th>\n",
       "      <th>Name</th>\n",
       "      <th>City</th>\n",
       "      <th>State</th>\n",
       "      <th>Zip</th>\n",
       "      <th>Bank</th>\n",
       "      <th>BankState</th>\n",
       "      <th>NAICS</th>\n",
       "      <th>ApprovalDate</th>\n",
       "      <th>ApprovalFY</th>\n",
       "      <th>...</th>\n",
       "      <th>RevLineCr</th>\n",
       "      <th>LowDoc</th>\n",
       "      <th>ChgOffDate</th>\n",
       "      <th>DisbursementDate</th>\n",
       "      <th>DisbursementGross</th>\n",
       "      <th>BalanceGross</th>\n",
       "      <th>MIS_Status</th>\n",
       "      <th>ChgOffPrinGr</th>\n",
       "      <th>GrAppv</th>\n",
       "      <th>SBA_Appv</th>\n",
       "    </tr>\n",
       "  </thead>\n",
       "  <tbody>\n",
       "    <tr>\n",
       "      <th>558</th>\n",
       "      <td>1004176005</td>\n",
       "      <td>GREENLIFE MOBILE</td>\n",
       "      <td>SAN JOSE</td>\n",
       "      <td>CA</td>\n",
       "      <td>95132</td>\n",
       "      <td>BBCN BANK</td>\n",
       "      <td>CA</td>\n",
       "      <td>561730</td>\n",
       "      <td>7-Feb-06</td>\n",
       "      <td>2006</td>\n",
       "      <td>...</td>\n",
       "      <td>0</td>\n",
       "      <td>N</td>\n",
       "      <td>19-Oct-09</td>\n",
       "      <td>28-Feb-06</td>\n",
       "      <td>$5,000.00</td>\n",
       "      <td>$0.00</td>\n",
       "      <td>P I F</td>\n",
       "      <td>3330.0</td>\n",
       "      <td>$5,000.00</td>\n",
       "      <td>$4,250.00</td>\n",
       "    </tr>\n",
       "    <tr>\n",
       "      <th>850</th>\n",
       "      <td>1005925000</td>\n",
       "      <td>GILLIAN'S DELICATESSEN &amp; CATER</td>\n",
       "      <td>FLORAL PARK</td>\n",
       "      <td>NY</td>\n",
       "      <td>11001</td>\n",
       "      <td>JPMORGAN CHASE BANK NATL ASSOC</td>\n",
       "      <td>IL</td>\n",
       "      <td>722320</td>\n",
       "      <td>26-Mar-03</td>\n",
       "      <td>2003</td>\n",
       "      <td>...</td>\n",
       "      <td>N</td>\n",
       "      <td>N</td>\n",
       "      <td>29-Mar-06</td>\n",
       "      <td>31-Mar-03</td>\n",
       "      <td>$15,000.00</td>\n",
       "      <td>$0.00</td>\n",
       "      <td>P I F</td>\n",
       "      <td>10270.0</td>\n",
       "      <td>$15,000.00</td>\n",
       "      <td>$7,500.00</td>\n",
       "    </tr>\n",
       "    <tr>\n",
       "      <th>853</th>\n",
       "      <td>1005936010</td>\n",
       "      <td>TRICAS MANAGEMENT SERVICES LLC</td>\n",
       "      <td>DALLAS</td>\n",
       "      <td>TX</td>\n",
       "      <td>75218</td>\n",
       "      <td>WELLS FARGO BANK NATL ASSOC</td>\n",
       "      <td>SD</td>\n",
       "      <td>621511</td>\n",
       "      <td>8-Feb-06</td>\n",
       "      <td>2006</td>\n",
       "      <td>...</td>\n",
       "      <td>Y</td>\n",
       "      <td>N</td>\n",
       "      <td>2-Feb-09</td>\n",
       "      <td>31-Mar-06</td>\n",
       "      <td>$165,553.00</td>\n",
       "      <td>$0.00</td>\n",
       "      <td>P I F</td>\n",
       "      <td>97486.0</td>\n",
       "      <td>$100,000.00</td>\n",
       "      <td>$50,000.00</td>\n",
       "    </tr>\n",
       "    <tr>\n",
       "      <th>861</th>\n",
       "      <td>1005986003</td>\n",
       "      <td>CAPITAL EXPLOSION GRAPHIC DESI</td>\n",
       "      <td>UPPER MARLBORO (MARLBORO)</td>\n",
       "      <td>MD</td>\n",
       "      <td>20774</td>\n",
       "      <td>BBCN BANK</td>\n",
       "      <td>CA</td>\n",
       "      <td>541430</td>\n",
       "      <td>8-Feb-06</td>\n",
       "      <td>2006</td>\n",
       "      <td>...</td>\n",
       "      <td>0</td>\n",
       "      <td>N</td>\n",
       "      <td>14-Aug-12</td>\n",
       "      <td>28-Feb-06</td>\n",
       "      <td>$10,000.00</td>\n",
       "      <td>$0.00</td>\n",
       "      <td>P I F</td>\n",
       "      <td>2310.0</td>\n",
       "      <td>$10,000.00</td>\n",
       "      <td>$8,500.00</td>\n",
       "    </tr>\n",
       "    <tr>\n",
       "      <th>866</th>\n",
       "      <td>1006016007</td>\n",
       "      <td>C-BARB AND CONLEY PROMOTIONAL</td>\n",
       "      <td>HOUSTON</td>\n",
       "      <td>TX</td>\n",
       "      <td>77057</td>\n",
       "      <td>BBCN BANK</td>\n",
       "      <td>CA</td>\n",
       "      <td>421450</td>\n",
       "      <td>8-Feb-06</td>\n",
       "      <td>2006</td>\n",
       "      <td>...</td>\n",
       "      <td>0</td>\n",
       "      <td>N</td>\n",
       "      <td>1-Jun-09</td>\n",
       "      <td>28-Feb-06</td>\n",
       "      <td>$5,000.00</td>\n",
       "      <td>$0.00</td>\n",
       "      <td>P I F</td>\n",
       "      <td>3783.0</td>\n",
       "      <td>$5,000.00</td>\n",
       "      <td>$4,250.00</td>\n",
       "    </tr>\n",
       "    <tr>\n",
       "      <th>...</th>\n",
       "      <td>...</td>\n",
       "      <td>...</td>\n",
       "      <td>...</td>\n",
       "      <td>...</td>\n",
       "      <td>...</td>\n",
       "      <td>...</td>\n",
       "      <td>...</td>\n",
       "      <td>...</td>\n",
       "      <td>...</td>\n",
       "      <td>...</td>\n",
       "      <td>...</td>\n",
       "      <td>...</td>\n",
       "      <td>...</td>\n",
       "      <td>...</td>\n",
       "      <td>...</td>\n",
       "      <td>...</td>\n",
       "      <td>...</td>\n",
       "      <td>...</td>\n",
       "      <td>...</td>\n",
       "      <td>...</td>\n",
       "      <td>...</td>\n",
       "    </tr>\n",
       "    <tr>\n",
       "      <th>895467</th>\n",
       "      <td>9913513005</td>\n",
       "      <td>INFINITE TECH. CORPORATION</td>\n",
       "      <td>RICHARDSON</td>\n",
       "      <td>TX</td>\n",
       "      <td>75080</td>\n",
       "      <td>LEGACYTEXAS BANK</td>\n",
       "      <td>TX</td>\n",
       "      <td>541512</td>\n",
       "      <td>23-Jan-97</td>\n",
       "      <td>1997</td>\n",
       "      <td>...</td>\n",
       "      <td>N</td>\n",
       "      <td>N</td>\n",
       "      <td>29-Dec-11</td>\n",
       "      <td>31-May-97</td>\n",
       "      <td>$441,000.00</td>\n",
       "      <td>$0.00</td>\n",
       "      <td>P I F</td>\n",
       "      <td>6462.0</td>\n",
       "      <td>$441,000.00</td>\n",
       "      <td>$330,750.00</td>\n",
       "    </tr>\n",
       "    <tr>\n",
       "      <th>895669</th>\n",
       "      <td>9918003004</td>\n",
       "      <td>ANRO INSULATION, INC.</td>\n",
       "      <td>STAFFORD</td>\n",
       "      <td>VA</td>\n",
       "      <td>22554</td>\n",
       "      <td>MANUFACTURERS &amp; TRADERS TR CO</td>\n",
       "      <td>MD</td>\n",
       "      <td>235420</td>\n",
       "      <td>24-Jan-97</td>\n",
       "      <td>1997</td>\n",
       "      <td>...</td>\n",
       "      <td>N</td>\n",
       "      <td>Y</td>\n",
       "      <td>22-Mar-00</td>\n",
       "      <td>19-Feb-97</td>\n",
       "      <td>$50,000.00</td>\n",
       "      <td>$0.00</td>\n",
       "      <td>P I F</td>\n",
       "      <td>46165.0</td>\n",
       "      <td>$50,000.00</td>\n",
       "      <td>$40,000.00</td>\n",
       "    </tr>\n",
       "    <tr>\n",
       "      <th>897114</th>\n",
       "      <td>9950351001</td>\n",
       "      <td>CLUB 191</td>\n",
       "      <td>PORTSMOUTH</td>\n",
       "      <td>IA</td>\n",
       "      <td>51565</td>\n",
       "      <td>NaN</td>\n",
       "      <td>NaN</td>\n",
       "      <td>0</td>\n",
       "      <td>24-Jul-78</td>\n",
       "      <td>1978</td>\n",
       "      <td>...</td>\n",
       "      <td>N</td>\n",
       "      <td>N</td>\n",
       "      <td>23-Nov-88</td>\n",
       "      <td>6-Dec-78</td>\n",
       "      <td>$65,000.00</td>\n",
       "      <td>$0.00</td>\n",
       "      <td>P I F</td>\n",
       "      <td>20878.0</td>\n",
       "      <td>$65,000.00</td>\n",
       "      <td>$48,750.00</td>\n",
       "    </tr>\n",
       "    <tr>\n",
       "      <th>897735</th>\n",
       "      <td>9963813010</td>\n",
       "      <td>J.T. AUTOMOTIVE SERVICES, LLC</td>\n",
       "      <td>SOUTHINGTON</td>\n",
       "      <td>CT</td>\n",
       "      <td>6489</td>\n",
       "      <td>TD BANK, NATIONAL ASSOCIATION</td>\n",
       "      <td>DE</td>\n",
       "      <td>0</td>\n",
       "      <td>13-Feb-97</td>\n",
       "      <td>1997</td>\n",
       "      <td>...</td>\n",
       "      <td>N</td>\n",
       "      <td>Y</td>\n",
       "      <td>26-Apr-06</td>\n",
       "      <td>31-May-97</td>\n",
       "      <td>$60,000.00</td>\n",
       "      <td>$0.00</td>\n",
       "      <td>P I F</td>\n",
       "      <td>17236.0</td>\n",
       "      <td>$60,000.00</td>\n",
       "      <td>$48,000.00</td>\n",
       "    </tr>\n",
       "    <tr>\n",
       "      <th>898966</th>\n",
       "      <td>9991623009</td>\n",
       "      <td>WHEELER INVESTMENTS, INC.</td>\n",
       "      <td>KENNESAW</td>\n",
       "      <td>GA</td>\n",
       "      <td>30144</td>\n",
       "      <td>BRANCH BK. &amp; TR CO</td>\n",
       "      <td>GA</td>\n",
       "      <td>445310</td>\n",
       "      <td>26-Feb-97</td>\n",
       "      <td>1997</td>\n",
       "      <td>...</td>\n",
       "      <td>0</td>\n",
       "      <td>N</td>\n",
       "      <td>9-Oct-98</td>\n",
       "      <td>31-Mar-97</td>\n",
       "      <td>$45,000.00</td>\n",
       "      <td>$0.00</td>\n",
       "      <td>P I F</td>\n",
       "      <td>30002.0</td>\n",
       "      <td>$45,000.00</td>\n",
       "      <td>$36,000.00</td>\n",
       "    </tr>\n",
       "  </tbody>\n",
       "</table>\n",
       "<p>4884 rows × 27 columns</p>\n",
       "</div>"
      ],
      "text/plain": [
       "        LoanNr_ChkDgt                            Name  \\\n",
       "558        1004176005                GREENLIFE MOBILE   \n",
       "850        1005925000  GILLIAN'S DELICATESSEN & CATER   \n",
       "853        1005936010  TRICAS MANAGEMENT SERVICES LLC   \n",
       "861        1005986003  CAPITAL EXPLOSION GRAPHIC DESI   \n",
       "866        1006016007   C-BARB AND CONLEY PROMOTIONAL   \n",
       "...               ...                             ...   \n",
       "895467     9913513005      INFINITE TECH. CORPORATION   \n",
       "895669     9918003004           ANRO INSULATION, INC.   \n",
       "897114     9950351001                        CLUB 191   \n",
       "897735     9963813010   J.T. AUTOMOTIVE SERVICES, LLC   \n",
       "898966     9991623009       WHEELER INVESTMENTS, INC.   \n",
       "\n",
       "                             City State    Zip  \\\n",
       "558                      SAN JOSE    CA  95132   \n",
       "850                   FLORAL PARK    NY  11001   \n",
       "853                        DALLAS    TX  75218   \n",
       "861     UPPER MARLBORO (MARLBORO)    MD  20774   \n",
       "866                       HOUSTON    TX  77057   \n",
       "...                           ...   ...    ...   \n",
       "895467                 RICHARDSON    TX  75080   \n",
       "895669                   STAFFORD    VA  22554   \n",
       "897114                 PORTSMOUTH    IA  51565   \n",
       "897735                SOUTHINGTON    CT   6489   \n",
       "898966                   KENNESAW    GA  30144   \n",
       "\n",
       "                                  Bank BankState   NAICS ApprovalDate  \\\n",
       "558                          BBCN BANK        CA  561730     7-Feb-06   \n",
       "850     JPMORGAN CHASE BANK NATL ASSOC        IL  722320    26-Mar-03   \n",
       "853        WELLS FARGO BANK NATL ASSOC        SD  621511     8-Feb-06   \n",
       "861                          BBCN BANK        CA  541430     8-Feb-06   \n",
       "866                          BBCN BANK        CA  421450     8-Feb-06   \n",
       "...                                ...       ...     ...          ...   \n",
       "895467                LEGACYTEXAS BANK        TX  541512    23-Jan-97   \n",
       "895669   MANUFACTURERS & TRADERS TR CO        MD  235420    24-Jan-97   \n",
       "897114                             NaN       NaN       0    24-Jul-78   \n",
       "897735   TD BANK, NATIONAL ASSOCIATION        DE       0    13-Feb-97   \n",
       "898966              BRANCH BK. & TR CO        GA  445310    26-Feb-97   \n",
       "\n",
       "       ApprovalFY  ...  RevLineCr  LowDoc  ChgOffDate  DisbursementDate  \\\n",
       "558          2006  ...          0       N   19-Oct-09         28-Feb-06   \n",
       "850          2003  ...          N       N   29-Mar-06         31-Mar-03   \n",
       "853          2006  ...          Y       N    2-Feb-09         31-Mar-06   \n",
       "861          2006  ...          0       N   14-Aug-12         28-Feb-06   \n",
       "866          2006  ...          0       N    1-Jun-09         28-Feb-06   \n",
       "...           ...  ...        ...     ...         ...               ...   \n",
       "895467       1997  ...          N       N   29-Dec-11         31-May-97   \n",
       "895669       1997  ...          N       Y   22-Mar-00         19-Feb-97   \n",
       "897114       1978  ...          N       N   23-Nov-88          6-Dec-78   \n",
       "897735       1997  ...          N       Y   26-Apr-06         31-May-97   \n",
       "898966       1997  ...          0       N    9-Oct-98         31-Mar-97   \n",
       "\n",
       "        DisbursementGross  BalanceGross  MIS_Status ChgOffPrinGr  \\\n",
       "558            $5,000.00         $0.00        P I F       3330.0   \n",
       "850           $15,000.00         $0.00        P I F      10270.0   \n",
       "853          $165,553.00         $0.00        P I F      97486.0   \n",
       "861           $10,000.00         $0.00        P I F       2310.0   \n",
       "866            $5,000.00         $0.00        P I F       3783.0   \n",
       "...                   ...           ...         ...          ...   \n",
       "895467       $441,000.00         $0.00        P I F       6462.0   \n",
       "895669        $50,000.00         $0.00        P I F      46165.0   \n",
       "897114        $65,000.00         $0.00        P I F      20878.0   \n",
       "897735        $60,000.00         $0.00        P I F      17236.0   \n",
       "898966        $45,000.00         $0.00        P I F      30002.0   \n",
       "\n",
       "              GrAppv      SBA_Appv  \n",
       "558       $5,000.00     $4,250.00   \n",
       "850      $15,000.00     $7,500.00   \n",
       "853     $100,000.00    $50,000.00   \n",
       "861      $10,000.00     $8,500.00   \n",
       "866       $5,000.00     $4,250.00   \n",
       "...              ...           ...  \n",
       "895467  $441,000.00   $330,750.00   \n",
       "895669   $50,000.00    $40,000.00   \n",
       "897114   $65,000.00    $48,750.00   \n",
       "897735   $60,000.00    $48,000.00   \n",
       "898966   $45,000.00    $36,000.00   \n",
       "\n",
       "[4884 rows x 27 columns]"
      ]
     },
     "execution_count": 6,
     "metadata": {},
     "output_type": "execute_result"
    }
   ],
   "source": [
    "df.query(\"MIS_Status == 'P I F' and ChgOffPrinGr > 0\")"
   ]
  },
  {
   "cell_type": "code",
   "execution_count": 7,
   "id": "1eb0a017-8f7a-43b0-b72f-556b06d218c7",
   "metadata": {},
   "outputs": [
    {
     "data": {
      "text/plain": [
       "array(['P I F', 'CHGOFF', nan], dtype=object)"
      ]
     },
     "execution_count": 7,
     "metadata": {},
     "output_type": "execute_result"
    }
   ],
   "source": [
    "df.MIS_Status.unique()"
   ]
  },
  {
   "cell_type": "code",
   "execution_count": 8,
   "id": "8dcfbfd2-7690-4514-9ed0-e51fca0db441",
   "metadata": {},
   "outputs": [],
   "source": [
    "anomalies = (df.MIS_Status == 'P I F') & (df.ChgOffPrinGr > 0)\n",
    "df.loc[anomalies, \"MIS_Status\"] = \"CHGOFF\""
   ]
  },
  {
   "cell_type": "markdown",
   "id": "19496e9b-26f6-4f22-aa83-abbe5add4b9a",
   "metadata": {},
   "source": [
    "# Removing Leaking Features"
   ]
  },
  {
   "cell_type": "code",
   "execution_count": 9,
   "id": "6d92576a-deef-4bb2-9a8c-c6839cdad82a",
   "metadata": {},
   "outputs": [
    {
     "name": "stdout",
     "output_type": "stream",
     "text": [
      "<class 'pandas.core.frame.DataFrame'>\n",
      "RangeIndex: 899164 entries, 0 to 899163\n",
      "Data columns (total 22 columns):\n",
      " #   Column         Non-Null Count   Dtype  \n",
      "---  ------         --------------   -----  \n",
      " 0   LoanNr_ChkDgt  899164 non-null  int64  \n",
      " 1   Name           899150 non-null  object \n",
      " 2   City           899134 non-null  object \n",
      " 3   State          899150 non-null  object \n",
      " 4   Zip            899164 non-null  int64  \n",
      " 5   Bank           897605 non-null  object \n",
      " 6   BankState      897598 non-null  object \n",
      " 7   NAICS          899164 non-null  int64  \n",
      " 8   ApprovalDate   899164 non-null  object \n",
      " 9   ApprovalFY     899164 non-null  object \n",
      " 10  Term           899164 non-null  int64  \n",
      " 11  NoEmp          899164 non-null  int64  \n",
      " 12  NewExist       899028 non-null  float64\n",
      " 13  CreateJob      899164 non-null  int64  \n",
      " 14  RetainedJob    899164 non-null  int64  \n",
      " 15  FranchiseCode  899164 non-null  int64  \n",
      " 16  UrbanRural     899164 non-null  int64  \n",
      " 17  RevLineCr      894636 non-null  object \n",
      " 18  LowDoc         896582 non-null  object \n",
      " 19  MIS_Status     897167 non-null  object \n",
      " 20  GrAppv         899164 non-null  object \n",
      " 21  SBA_Appv       899164 non-null  object \n",
      "dtypes: float64(1), int64(9), object(12)\n",
      "memory usage: 150.9+ MB\n"
     ]
    }
   ],
   "source": [
    "target_leaking_cols = [\n",
    "    \"ChgOffDate\", \"ChgOffPrinGr\",\n",
    "    \"DisbursementDate\", \"DisbursementGross\", \"BalanceGross\",\n",
    "]\n",
    "df = df.drop(columns = target_leaking_cols)\n",
    "df.info()"
   ]
  },
  {
   "cell_type": "markdown",
   "id": "f426ada1-693a-4ee6-8886-26c3703703d8",
   "metadata": {},
   "source": [
    "# Detailed Cleaning "
   ]
  },
  {
   "cell_type": "markdown",
   "id": "c28c9b9a-153d-4a5c-a2ac-6614613403c4",
   "metadata": {
    "jp-MarkdownHeadingCollapsed": true
   },
   "source": [
    "## `City` (will be droped)"
   ]
  },
  {
   "cell_type": "markdown",
   "id": "7bc902a9-c721-444d-b742-27565b314c3b",
   "metadata": {},
   "source": [
    "Because we aren't able to manage it properly without NLP."
   ]
  },
  {
   "cell_type": "markdown",
   "id": "0392d3de-da35-4438-9f4e-7fb2fa07c4a6",
   "metadata": {},
   "source": [
    "## `State` (manage missing)"
   ]
  },
  {
   "cell_type": "code",
   "execution_count": 10,
   "id": "9d1fa85a-0101-4113-b1e4-8ed910c06eda",
   "metadata": {},
   "outputs": [
    {
     "data": {
      "text/plain": [
       "14"
      ]
     },
     "execution_count": 10,
     "metadata": {},
     "output_type": "execute_result"
    }
   ],
   "source": [
    "df.State.isna().sum()"
   ]
  },
  {
   "cell_type": "code",
   "execution_count": 11,
   "id": "24088877-4f89-4320-b015-179227f33d69",
   "metadata": {},
   "outputs": [],
   "source": [
    "df = df.dropna(subset=['State'])"
   ]
  },
  {
   "cell_type": "markdown",
   "id": "4abe65aa-afd2-4185-8d69-9c69ce6d1bf1",
   "metadata": {},
   "source": [
    "## `Regions`"
   ]
  },
  {
   "cell_type": "code",
   "execution_count": 12,
   "id": "b36ebc00-64ce-494f-b4d3-f3b6465aa3e8",
   "metadata": {},
   "outputs": [],
   "source": [
    "REGIONS = {\n",
    "    \"AL\": \"Southeast\",\n",
    "    \"AK\": \"Northwest\",\n",
    "    \"AZ\": \"Southwest\",\n",
    "    \"AR\": \"Southeast\",\n",
    "    \"CA\": \"Southwest\",\n",
    "    \"CO\": \"Southwest\",\n",
    "    \"CT\": \"Northeast\",\n",
    "    \"DC\": \"Northeast\",\n",
    "    \"DE\": \"Northeast\",\n",
    "    \"FL\": \"Southeast\",\n",
    "    \"GA\": \"Southeast\",\n",
    "    \"HI\": \"Northwest\",\n",
    "    \"ID\": \"Northwest\",\n",
    "    \"IL\": \"Northeast\",\n",
    "    \"IN\": \"Northeast\",\n",
    "    \"IA\": \"Northwest\",\n",
    "    \"KS\": \"Northwest\",\n",
    "    \"KY\": \"Southeast\",\n",
    "    \"LA\": \"Southeast\",\n",
    "    \"ME\": \"Northeast\",\n",
    "    \"MD\": \"Northeast\",\n",
    "    \"MA\": \"Northeast\",\n",
    "    \"MI\": \"Northeast\",\n",
    "    \"MN\": \"Northwest\",\n",
    "    \"MS\": \"Southeast\",\n",
    "    \"MO\": \"Northwest\",\n",
    "    \"MT\": \"Northwest\",\n",
    "    \"NE\": \"Northwest\",\n",
    "    \"NV\": \"Northwest\",\n",
    "    \"NH\": \"Northeast\",\n",
    "    \"NJ\": \"Northeast\",\n",
    "    \"NM\": \"Southwest\",\n",
    "    \"NY\": \"Northeast\",\n",
    "    \"NC\": \"Southeast\",\n",
    "    \"ND\": \"Northwest\",\n",
    "    \"OH\": \"Northeast\",\n",
    "    \"OK\": \"Southwest\",\n",
    "    \"OR\": \"Northwest\",\n",
    "    \"PA\": \"Northeast\",\n",
    "    \"RI\": \"Northeast\",\n",
    "    \"SC\": \"Southeast\",\n",
    "    \"SD\": \"Northwest\",\n",
    "    \"TN\": \"Southeast\",\n",
    "    \"TX\": \"Southwest\",\n",
    "    \"UT\": \"Northwest\",\n",
    "    \"VT\": \"Northeast\",\n",
    "    \"VA\": \"Southeast\",\n",
    "    \"WA\": \"Northwest\",\n",
    "    \"WV\": \"Southeast\",\n",
    "    \"WI\": \"Northwest\",\n",
    "    \"WY\": \"Northwest\"\n",
    "}"
   ]
  },
  {
   "cell_type": "code",
   "execution_count": 13,
   "id": "d3f4e494-a439-4dad-a31e-b0c08c2857ab",
   "metadata": {},
   "outputs": [],
   "source": [
    "df[\"Region\"] = df.State.map(REGIONS)"
   ]
  },
  {
   "cell_type": "markdown",
   "id": "b81e088a-0fe6-47d1-b05b-445e027ce7bb",
   "metadata": {
    "jp-MarkdownHeadingCollapsed": true
   },
   "source": [
    "## `Zip` (will be droped)"
   ]
  },
  {
   "cell_type": "code",
   "execution_count": null,
   "id": "2d938462-076f-4fa9-a951-3737e4c862f5",
   "metadata": {},
   "outputs": [],
   "source": []
  },
  {
   "cell_type": "markdown",
   "id": "59f30f13-b23e-41fe-be56-eb255ce3b32f",
   "metadata": {
    "jp-MarkdownHeadingCollapsed": true
   },
   "source": [
    "## `Bank` (encode NaN)"
   ]
  },
  {
   "cell_type": "code",
   "execution_count": 14,
   "id": "42443167-b230-4674-9db1-47147754655e",
   "metadata": {},
   "outputs": [],
   "source": [
    "df.Bank = df.Bank.fillna(\"Missing\")"
   ]
  },
  {
   "cell_type": "markdown",
   "id": "dad49a88-ce0f-4465-9864-3e181cebb5ec",
   "metadata": {},
   "source": [
    "## `BankState` (encode NaN)"
   ]
  },
  {
   "cell_type": "code",
   "execution_count": 15,
   "id": "566e95ec-55e4-4cbb-9f73-2fddc07082c5",
   "metadata": {},
   "outputs": [],
   "source": [
    "df.BankState = df.BankState.fillna(\"Missing\")"
   ]
  },
  {
   "cell_type": "markdown",
   "id": "507284c3-e8a7-417a-8bb1-89dcbaa29651",
   "metadata": {},
   "source": [
    "## Add `SameState`"
   ]
  },
  {
   "cell_type": "code",
   "execution_count": 16,
   "id": "ac119938-948f-4106-9b38-a5fb15aa1441",
   "metadata": {},
   "outputs": [],
   "source": [
    "df[\"SameState\"] = (df.State == df.BankState)"
   ]
  },
  {
   "cell_type": "markdown",
   "id": "5a81985b-79e3-4cea-8e8b-10056bf46369",
   "metadata": {},
   "source": [
    "## `NAICS`"
   ]
  },
  {
   "cell_type": "code",
   "execution_count": 17,
   "id": "488281c7-2530-41c5-80b0-4ddee9f4d74e",
   "metadata": {},
   "outputs": [],
   "source": [
    "NAICS_MAPPING = {\n",
    "    \"0\": \"Missing\",\n",
    "    \"11\": \"AgricultureForestryFishingAndHunting\",\n",
    "    \"21\": \"MiningQuarryingAndOilAndGasExtraction\",\n",
    "    \"22\": \"Utilities\",\n",
    "    \"23\": \"Construction\",\n",
    "    \"31\": \"Manufacturing\",\n",
    "    \"32\": \"Manufacturing\",\n",
    "    \"33\": \"Manufacturing\",\n",
    "    \"42\": \"WholesaleTrade\",\n",
    "    \"44\": \"RetailTrade\",\n",
    "    \"45\": \"RetailTrade\",\n",
    "    \"48\": \"TransportationAndWarehousing\",\n",
    "    \"49\": \"TransportationAndWarehousing\",\n",
    "    \"51\": \"Information\",\n",
    "    \"52\": \"FinanceAndInsurance\",\n",
    "    \"53\": \"RealEstateAndRentalAndLeasing\",\n",
    "    \"54\": \"ProfessionalScientificAndTechnicalServices\",\n",
    "    \"55\": \"ManagementOfCompaniesAndEnterprises\",\n",
    "    \"56\": \"AdministrativeAndSupportAndWasteManagementAndRemediationServices\",\n",
    "    \"61\": \"EducationalServices\",\n",
    "    \"62\": \"HealthCareAndSocialAssistance\",\n",
    "    \"71\": \"ArtsEntertainmentAndRecreation\",\n",
    "    \"72\": \"AccommodationAndFoodServices\",\n",
    "    \"81\": \"OtherServicesExceptPublicAdministration\",\n",
    "    \"92\": \"PublicAdministration\"\n",
    "}\n",
    "\n",
    "def map_NAICS_to_cats(n: int) -> str:\n",
    "    \"\"\"Map a NAICS integer to its counterpart category\"\"\"\n",
    "    cat_digits = str(n)[:2]\n",
    "    return NAICS_MAPPING.get(cat_digits)"
   ]
  },
  {
   "cell_type": "code",
   "execution_count": 18,
   "id": "20a98145-663b-4616-ac7a-516b6f7751b6",
   "metadata": {},
   "outputs": [],
   "source": [
    "df.NAICS = df.NAICS.map(map_NAICS_to_cats)"
   ]
  },
  {
   "cell_type": "markdown",
   "id": "993fe09e-572a-4e41-bfbe-7bfac4738104",
   "metadata": {},
   "source": [
    "## `ApprovalDate` (Feature Engineering)"
   ]
  },
  {
   "cell_type": "markdown",
   "id": "aacd381d-c28d-4e8b-b6e2-724858000f18",
   "metadata": {},
   "source": [
    "### Transtype to `datetime`"
   ]
  },
  {
   "cell_type": "code",
   "execution_count": 19,
   "id": "42752851-829e-4045-abb2-fbb72c478fd1",
   "metadata": {},
   "outputs": [],
   "source": [
    "df.ApprovalDate = pd.to_datetime(df.ApprovalDate, format=\"%d-%b-%y\")"
   ]
  },
  {
   "cell_type": "markdown",
   "id": "9a5351f1-b74e-4284-831e-7967758c58a0",
   "metadata": {},
   "source": [
    "### Create New Date Features"
   ]
  },
  {
   "cell_type": "code",
   "execution_count": 20,
   "id": "71f8a77d-d69d-4815-9497-f11bbd262a81",
   "metadata": {},
   "outputs": [],
   "source": [
    "df['ApprovalMonth'] = df.ApprovalDate.dt.month\n",
    "df['ApprovalDoW'] = df.ApprovalDate.dt.dayofweek"
   ]
  },
  {
   "cell_type": "markdown",
   "id": "442eeb3c-402b-467f-aa00-cf330ef35092",
   "metadata": {},
   "source": [
    "## `ApprovalFY` (Feature Engineering)"
   ]
  },
  {
   "cell_type": "code",
   "execution_count": 21,
   "id": "4b22f1ca-4e33-4cb0-acc4-66ea44943557",
   "metadata": {},
   "outputs": [],
   "source": [
    "df.ApprovalFY = df.ApprovalFY.astype(\"str\")\n",
    "\n",
    "# According to National Bureau of Economic Research\n",
    "# This is valid until 2023...\n",
    "RECESSION_PERIODS = [\n",
    "    (1969, 1970),\n",
    "    (1973, 1975),\n",
    "    (1980, 1980),\n",
    "    (1981, 1982),\n",
    "    (1990, 1991),\n",
    "    (2001, 2001),\n",
    "    (2007, 2009),\n",
    "    (2020, 2020),  # Including the COVID-19 pandemic recession\n",
    "]\n",
    "\n",
    "def is_year_a_recession(year_str: str) -> bool:\n",
    "    try:\n",
    "        year = int(year_str)\n",
    "    except ValueError:\n",
    "        year = int(year_str[:-1])\n",
    "    return any(start <= year <= end for start, end in RECESSION_PERIODS)\n",
    "\n",
    "df[\"Recession\"] = df.ApprovalFY.map(is_year_a_recession)"
   ]
  },
  {
   "cell_type": "code",
   "execution_count": 22,
   "id": "4957d406-3143-4d75-8ce0-51fc52578d97",
   "metadata": {},
   "outputs": [
    {
     "data": {
      "text/html": [
       "<div>\n",
       "<style scoped>\n",
       "    .dataframe tbody tr th:only-of-type {\n",
       "        vertical-align: middle;\n",
       "    }\n",
       "\n",
       "    .dataframe tbody tr th {\n",
       "        vertical-align: top;\n",
       "    }\n",
       "\n",
       "    .dataframe thead th {\n",
       "        text-align: right;\n",
       "    }\n",
       "</style>\n",
       "<table border=\"1\" class=\"dataframe\">\n",
       "  <thead>\n",
       "    <tr style=\"text-align: right;\">\n",
       "      <th></th>\n",
       "      <th>LoanNr_ChkDgt</th>\n",
       "      <th>Name</th>\n",
       "      <th>City</th>\n",
       "      <th>State</th>\n",
       "      <th>Zip</th>\n",
       "      <th>Bank</th>\n",
       "      <th>BankState</th>\n",
       "      <th>NAICS</th>\n",
       "      <th>ApprovalDate</th>\n",
       "      <th>ApprovalFY</th>\n",
       "      <th>...</th>\n",
       "      <th>RevLineCr</th>\n",
       "      <th>LowDoc</th>\n",
       "      <th>MIS_Status</th>\n",
       "      <th>GrAppv</th>\n",
       "      <th>SBA_Appv</th>\n",
       "      <th>Region</th>\n",
       "      <th>SameState</th>\n",
       "      <th>ApprovalMonth</th>\n",
       "      <th>ApprovalDoW</th>\n",
       "      <th>Recession</th>\n",
       "    </tr>\n",
       "  </thead>\n",
       "  <tbody>\n",
       "    <tr>\n",
       "      <th>187330</th>\n",
       "      <td>2329516003</td>\n",
       "      <td>NORRIS INTERESTS LLC</td>\n",
       "      <td>PLANO</td>\n",
       "      <td>TX</td>\n",
       "      <td>75023</td>\n",
       "      <td>JPMORGAN CHASE BANK NATL ASSOC</td>\n",
       "      <td>IL</td>\n",
       "      <td>AccommodationAndFoodServices</td>\n",
       "      <td>2006-08-15</td>\n",
       "      <td>2006</td>\n",
       "      <td>...</td>\n",
       "      <td>Y</td>\n",
       "      <td>N</td>\n",
       "      <td>CHGOFF</td>\n",
       "      <td>$25,000.00</td>\n",
       "      <td>$12,500.00</td>\n",
       "      <td>Southwest</td>\n",
       "      <td>False</td>\n",
       "      <td>8</td>\n",
       "      <td>1</td>\n",
       "      <td>False</td>\n",
       "    </tr>\n",
       "  </tbody>\n",
       "</table>\n",
       "<p>1 rows × 27 columns</p>\n",
       "</div>"
      ],
      "text/plain": [
       "        LoanNr_ChkDgt                  Name   City State    Zip  \\\n",
       "187330     2329516003  NORRIS INTERESTS LLC  PLANO    TX  75023   \n",
       "\n",
       "                                  Bank BankState  \\\n",
       "187330  JPMORGAN CHASE BANK NATL ASSOC        IL   \n",
       "\n",
       "                               NAICS ApprovalDate ApprovalFY  ...  RevLineCr  \\\n",
       "187330  AccommodationAndFoodServices   2006-08-15       2006  ...          Y   \n",
       "\n",
       "        LowDoc  MIS_Status       GrAppv     SBA_Appv     Region  SameState  \\\n",
       "187330       N      CHGOFF  $25,000.00   $12,500.00   Southwest      False   \n",
       "\n",
       "       ApprovalMonth ApprovalDoW Recession  \n",
       "187330             8           1     False  \n",
       "\n",
       "[1 rows x 27 columns]"
      ]
     },
     "execution_count": 22,
     "metadata": {},
     "output_type": "execute_result"
    }
   ],
   "source": [
    "df.sample()"
   ]
  },
  {
   "cell_type": "markdown",
   "id": "b3546b40-f6f9-4f06-865e-bfd81f74738d",
   "metadata": {},
   "source": [
    "## `Term` (No Cleaning - Problem with aberrant values: 0)"
   ]
  },
  {
   "cell_type": "code",
   "execution_count": 23,
   "id": "da5d7280-e35b-4c5d-8131-beb04e354e4c",
   "metadata": {},
   "outputs": [
    {
     "data": {
      "text/html": [
       "<div>\n",
       "<style scoped>\n",
       "    .dataframe tbody tr th:only-of-type {\n",
       "        vertical-align: middle;\n",
       "    }\n",
       "\n",
       "    .dataframe tbody tr th {\n",
       "        vertical-align: top;\n",
       "    }\n",
       "\n",
       "    .dataframe thead th {\n",
       "        text-align: right;\n",
       "    }\n",
       "</style>\n",
       "<table border=\"1\" class=\"dataframe\">\n",
       "  <thead>\n",
       "    <tr style=\"text-align: right;\">\n",
       "      <th></th>\n",
       "      <th>LoanNr_ChkDgt</th>\n",
       "      <th>Name</th>\n",
       "      <th>City</th>\n",
       "      <th>State</th>\n",
       "      <th>Zip</th>\n",
       "      <th>Bank</th>\n",
       "      <th>BankState</th>\n",
       "      <th>NAICS</th>\n",
       "      <th>ApprovalDate</th>\n",
       "      <th>ApprovalFY</th>\n",
       "      <th>...</th>\n",
       "      <th>RevLineCr</th>\n",
       "      <th>LowDoc</th>\n",
       "      <th>MIS_Status</th>\n",
       "      <th>GrAppv</th>\n",
       "      <th>SBA_Appv</th>\n",
       "      <th>Region</th>\n",
       "      <th>SameState</th>\n",
       "      <th>ApprovalMonth</th>\n",
       "      <th>ApprovalDoW</th>\n",
       "      <th>Recession</th>\n",
       "    </tr>\n",
       "  </thead>\n",
       "  <tbody>\n",
       "    <tr>\n",
       "      <th>635</th>\n",
       "      <td>1004675006</td>\n",
       "      <td>Katharine Crowley dba K. Crowl</td>\n",
       "      <td>SAN ANSELMO</td>\n",
       "      <td>CA</td>\n",
       "      <td>94960</td>\n",
       "      <td>CALIFORNIA BANK &amp; TRUST</td>\n",
       "      <td>CA</td>\n",
       "      <td>RetailTrade</td>\n",
       "      <td>2001-06-25</td>\n",
       "      <td>2001</td>\n",
       "      <td>...</td>\n",
       "      <td>Y</td>\n",
       "      <td>N</td>\n",
       "      <td>CHGOFF</td>\n",
       "      <td>$29,000.00</td>\n",
       "      <td>$14,500.00</td>\n",
       "      <td>Southwest</td>\n",
       "      <td>True</td>\n",
       "      <td>6</td>\n",
       "      <td>0</td>\n",
       "      <td>True</td>\n",
       "    </tr>\n",
       "    <tr>\n",
       "      <th>673</th>\n",
       "      <td>1004896009</td>\n",
       "      <td>Q &amp; P MARKET INC</td>\n",
       "      <td>BROOKLYN</td>\n",
       "      <td>NY</td>\n",
       "      <td>11226</td>\n",
       "      <td>WELLS FARGO BANK NATL ASSOC</td>\n",
       "      <td>SD</td>\n",
       "      <td>WholesaleTrade</td>\n",
       "      <td>2006-02-07</td>\n",
       "      <td>2006</td>\n",
       "      <td>...</td>\n",
       "      <td>Y</td>\n",
       "      <td>N</td>\n",
       "      <td>CHGOFF</td>\n",
       "      <td>$30,000.00</td>\n",
       "      <td>$15,000.00</td>\n",
       "      <td>Northeast</td>\n",
       "      <td>False</td>\n",
       "      <td>2</td>\n",
       "      <td>1</td>\n",
       "      <td>False</td>\n",
       "    </tr>\n",
       "    <tr>\n",
       "      <th>776</th>\n",
       "      <td>1005505003</td>\n",
       "      <td>Beckwith Printing, Inc.</td>\n",
       "      <td>LAS VEGAS</td>\n",
       "      <td>NV</td>\n",
       "      <td>89118</td>\n",
       "      <td>CALIFORNIA BANK &amp; TRUST</td>\n",
       "      <td>CA</td>\n",
       "      <td>Manufacturing</td>\n",
       "      <td>2003-01-10</td>\n",
       "      <td>2003</td>\n",
       "      <td>...</td>\n",
       "      <td>Y</td>\n",
       "      <td>N</td>\n",
       "      <td>CHGOFF</td>\n",
       "      <td>$50,000.00</td>\n",
       "      <td>$25,000.00</td>\n",
       "      <td>Northwest</td>\n",
       "      <td>False</td>\n",
       "      <td>1</td>\n",
       "      <td>4</td>\n",
       "      <td>False</td>\n",
       "    </tr>\n",
       "    <tr>\n",
       "      <th>916</th>\n",
       "      <td>1006305004</td>\n",
       "      <td>C.O.K.Y., Inc.</td>\n",
       "      <td>MIAMI</td>\n",
       "      <td>FL</td>\n",
       "      <td>33145</td>\n",
       "      <td>CALIFORNIA BANK &amp; TRUST</td>\n",
       "      <td>CA</td>\n",
       "      <td>Manufacturing</td>\n",
       "      <td>2003-04-18</td>\n",
       "      <td>2003</td>\n",
       "      <td>...</td>\n",
       "      <td>N</td>\n",
       "      <td>N</td>\n",
       "      <td>CHGOFF</td>\n",
       "      <td>$150,000.00</td>\n",
       "      <td>$75,000.00</td>\n",
       "      <td>Southeast</td>\n",
       "      <td>False</td>\n",
       "      <td>4</td>\n",
       "      <td>4</td>\n",
       "      <td>False</td>\n",
       "    </tr>\n",
       "    <tr>\n",
       "      <th>1084</th>\n",
       "      <td>1007465008</td>\n",
       "      <td>Waldorf Tuxedo LLC</td>\n",
       "      <td>WARWICK</td>\n",
       "      <td>RI</td>\n",
       "      <td>2888</td>\n",
       "      <td>BANK RHODE ISLAND</td>\n",
       "      <td>RI</td>\n",
       "      <td>RealEstateAndRentalAndLeasing</td>\n",
       "      <td>2003-07-31</td>\n",
       "      <td>2003</td>\n",
       "      <td>...</td>\n",
       "      <td>Y</td>\n",
       "      <td>N</td>\n",
       "      <td>CHGOFF</td>\n",
       "      <td>$150,000.00</td>\n",
       "      <td>$75,000.00</td>\n",
       "      <td>Northeast</td>\n",
       "      <td>True</td>\n",
       "      <td>7</td>\n",
       "      <td>3</td>\n",
       "      <td>False</td>\n",
       "    </tr>\n",
       "    <tr>\n",
       "      <th>...</th>\n",
       "      <td>...</td>\n",
       "      <td>...</td>\n",
       "      <td>...</td>\n",
       "      <td>...</td>\n",
       "      <td>...</td>\n",
       "      <td>...</td>\n",
       "      <td>...</td>\n",
       "      <td>...</td>\n",
       "      <td>...</td>\n",
       "      <td>...</td>\n",
       "      <td>...</td>\n",
       "      <td>...</td>\n",
       "      <td>...</td>\n",
       "      <td>...</td>\n",
       "      <td>...</td>\n",
       "      <td>...</td>\n",
       "      <td>...</td>\n",
       "      <td>...</td>\n",
       "      <td>...</td>\n",
       "      <td>...</td>\n",
       "      <td>...</td>\n",
       "    </tr>\n",
       "    <tr>\n",
       "      <th>891986</th>\n",
       "      <td>9847764007</td>\n",
       "      <td>SUNDAY A AZAH dba XPRESSWAY LA</td>\n",
       "      <td>SAN JOSE</td>\n",
       "      <td>CA</td>\n",
       "      <td>95124</td>\n",
       "      <td>WELLS FARGO BANK NATL ASSOC</td>\n",
       "      <td>SD</td>\n",
       "      <td>OtherServicesExceptPublicAdministration</td>\n",
       "      <td>2006-02-02</td>\n",
       "      <td>2006</td>\n",
       "      <td>...</td>\n",
       "      <td>Y</td>\n",
       "      <td>N</td>\n",
       "      <td>CHGOFF</td>\n",
       "      <td>$16,000.00</td>\n",
       "      <td>$8,000.00</td>\n",
       "      <td>Southwest</td>\n",
       "      <td>False</td>\n",
       "      <td>2</td>\n",
       "      <td>3</td>\n",
       "      <td>False</td>\n",
       "    </tr>\n",
       "    <tr>\n",
       "      <th>894913</th>\n",
       "      <td>9900263003</td>\n",
       "      <td>STRATEGIC MOTIVATION RESOURCES</td>\n",
       "      <td>ST. LOUIS</td>\n",
       "      <td>MO</td>\n",
       "      <td>63102</td>\n",
       "      <td>EAGLE BK &amp; TR CO OF MISSOURI</td>\n",
       "      <td>MO</td>\n",
       "      <td>Missing</td>\n",
       "      <td>1997-01-16</td>\n",
       "      <td>1997</td>\n",
       "      <td>...</td>\n",
       "      <td>N</td>\n",
       "      <td>Y</td>\n",
       "      <td>CHGOFF</td>\n",
       "      <td>$93,000.00</td>\n",
       "      <td>$74,400.00</td>\n",
       "      <td>Northwest</td>\n",
       "      <td>True</td>\n",
       "      <td>1</td>\n",
       "      <td>3</td>\n",
       "      <td>False</td>\n",
       "    </tr>\n",
       "    <tr>\n",
       "      <th>895325</th>\n",
       "      <td>9910343007</td>\n",
       "      <td>SIEGEL JEWELERS</td>\n",
       "      <td>GRAND RAPIDS</td>\n",
       "      <td>MI</td>\n",
       "      <td>49501</td>\n",
       "      <td>UNITED BANK OF MICHIGAN</td>\n",
       "      <td>MI</td>\n",
       "      <td>RetailTrade</td>\n",
       "      <td>1997-01-22</td>\n",
       "      <td>1997</td>\n",
       "      <td>...</td>\n",
       "      <td>0</td>\n",
       "      <td>N</td>\n",
       "      <td>CHGOFF</td>\n",
       "      <td>$1,100,000.00</td>\n",
       "      <td>$748,000.00</td>\n",
       "      <td>Northeast</td>\n",
       "      <td>True</td>\n",
       "      <td>1</td>\n",
       "      <td>2</td>\n",
       "      <td>False</td>\n",
       "    </tr>\n",
       "    <tr>\n",
       "      <th>896757</th>\n",
       "      <td>9942393005</td>\n",
       "      <td>RELICARE, INC.</td>\n",
       "      <td>ELIZABETHTOWN</td>\n",
       "      <td>KY</td>\n",
       "      <td>42701</td>\n",
       "      <td>PNC BANK, NATIONAL ASSOCIATION</td>\n",
       "      <td>KY</td>\n",
       "      <td>Missing</td>\n",
       "      <td>1997-02-05</td>\n",
       "      <td>1997</td>\n",
       "      <td>...</td>\n",
       "      <td>N</td>\n",
       "      <td>Y</td>\n",
       "      <td>CHGOFF</td>\n",
       "      <td>$40,000.00</td>\n",
       "      <td>$32,000.00</td>\n",
       "      <td>Southeast</td>\n",
       "      <td>True</td>\n",
       "      <td>2</td>\n",
       "      <td>2</td>\n",
       "      <td>False</td>\n",
       "    </tr>\n",
       "    <tr>\n",
       "      <th>898765</th>\n",
       "      <td>9987403010</td>\n",
       "      <td>3 B'S PROVISIONS</td>\n",
       "      <td>NEWFOUNDLAND</td>\n",
       "      <td>PA</td>\n",
       "      <td>18445</td>\n",
       "      <td>PNC BANK, NATIONAL ASSOCIATION</td>\n",
       "      <td>DE</td>\n",
       "      <td>Missing</td>\n",
       "      <td>1997-02-25</td>\n",
       "      <td>1997</td>\n",
       "      <td>...</td>\n",
       "      <td>Y</td>\n",
       "      <td>N</td>\n",
       "      <td>CHGOFF</td>\n",
       "      <td>$15,000.00</td>\n",
       "      <td>$7,500.00</td>\n",
       "      <td>Northeast</td>\n",
       "      <td>False</td>\n",
       "      <td>2</td>\n",
       "      <td>1</td>\n",
       "      <td>False</td>\n",
       "    </tr>\n",
       "  </tbody>\n",
       "</table>\n",
       "<p>810 rows × 27 columns</p>\n",
       "</div>"
      ],
      "text/plain": [
       "        LoanNr_ChkDgt                            Name           City State  \\\n",
       "635        1004675006  Katharine Crowley dba K. Crowl    SAN ANSELMO    CA   \n",
       "673        1004896009                Q & P MARKET INC       BROOKLYN    NY   \n",
       "776        1005505003         Beckwith Printing, Inc.      LAS VEGAS    NV   \n",
       "916        1006305004                  C.O.K.Y., Inc.          MIAMI    FL   \n",
       "1084       1007465008              Waldorf Tuxedo LLC        WARWICK    RI   \n",
       "...               ...                             ...            ...   ...   \n",
       "891986     9847764007  SUNDAY A AZAH dba XPRESSWAY LA       SAN JOSE    CA   \n",
       "894913     9900263003  STRATEGIC MOTIVATION RESOURCES      ST. LOUIS    MO   \n",
       "895325     9910343007                 SIEGEL JEWELERS   GRAND RAPIDS    MI   \n",
       "896757     9942393005                  RELICARE, INC.  ELIZABETHTOWN    KY   \n",
       "898765     9987403010                3 B'S PROVISIONS   NEWFOUNDLAND    PA   \n",
       "\n",
       "          Zip                            Bank BankState  \\\n",
       "635     94960         CALIFORNIA BANK & TRUST        CA   \n",
       "673     11226     WELLS FARGO BANK NATL ASSOC        SD   \n",
       "776     89118         CALIFORNIA BANK & TRUST        CA   \n",
       "916     33145         CALIFORNIA BANK & TRUST        CA   \n",
       "1084     2888               BANK RHODE ISLAND        RI   \n",
       "...       ...                             ...       ...   \n",
       "891986  95124     WELLS FARGO BANK NATL ASSOC        SD   \n",
       "894913  63102    EAGLE BK & TR CO OF MISSOURI        MO   \n",
       "895325  49501         UNITED BANK OF MICHIGAN        MI   \n",
       "896757  42701  PNC BANK, NATIONAL ASSOCIATION        KY   \n",
       "898765  18445  PNC BANK, NATIONAL ASSOCIATION        DE   \n",
       "\n",
       "                                          NAICS ApprovalDate ApprovalFY  ...  \\\n",
       "635                                 RetailTrade   2001-06-25       2001  ...   \n",
       "673                              WholesaleTrade   2006-02-07       2006  ...   \n",
       "776                               Manufacturing   2003-01-10       2003  ...   \n",
       "916                               Manufacturing   2003-04-18       2003  ...   \n",
       "1084              RealEstateAndRentalAndLeasing   2003-07-31       2003  ...   \n",
       "...                                         ...          ...        ...  ...   \n",
       "891986  OtherServicesExceptPublicAdministration   2006-02-02       2006  ...   \n",
       "894913                                  Missing   1997-01-16       1997  ...   \n",
       "895325                              RetailTrade   1997-01-22       1997  ...   \n",
       "896757                                  Missing   1997-02-05       1997  ...   \n",
       "898765                                  Missing   1997-02-25       1997  ...   \n",
       "\n",
       "        RevLineCr  LowDoc  MIS_Status          GrAppv      SBA_Appv  \\\n",
       "635             Y       N      CHGOFF     $29,000.00    $14,500.00    \n",
       "673             Y       N      CHGOFF     $30,000.00    $15,000.00    \n",
       "776             Y       N      CHGOFF     $50,000.00    $25,000.00    \n",
       "916             N       N      CHGOFF    $150,000.00    $75,000.00    \n",
       "1084            Y       N      CHGOFF    $150,000.00    $75,000.00    \n",
       "...           ...     ...         ...             ...           ...   \n",
       "891986          Y       N      CHGOFF     $16,000.00     $8,000.00    \n",
       "894913          N       Y      CHGOFF     $93,000.00    $74,400.00    \n",
       "895325          0       N      CHGOFF  $1,100,000.00   $748,000.00    \n",
       "896757          N       Y      CHGOFF     $40,000.00    $32,000.00    \n",
       "898765          Y       N      CHGOFF     $15,000.00     $7,500.00    \n",
       "\n",
       "           Region  SameState ApprovalMonth ApprovalDoW Recession  \n",
       "635     Southwest       True             6           0      True  \n",
       "673     Northeast      False             2           1     False  \n",
       "776     Northwest      False             1           4     False  \n",
       "916     Southeast      False             4           4     False  \n",
       "1084    Northeast       True             7           3     False  \n",
       "...           ...        ...           ...         ...       ...  \n",
       "891986  Southwest      False             2           3     False  \n",
       "894913  Northwest       True             1           3     False  \n",
       "895325  Northeast       True             1           2     False  \n",
       "896757  Southeast       True             2           2     False  \n",
       "898765  Northeast      False             2           1     False  \n",
       "\n",
       "[810 rows x 27 columns]"
      ]
     },
     "execution_count": 23,
     "metadata": {},
     "output_type": "execute_result"
    }
   ],
   "source": [
    "df.query(\"Term == 0\")"
   ]
  },
  {
   "cell_type": "markdown",
   "id": "e0fa69fd-a8fc-4516-a2f6-1b440e3729ce",
   "metadata": {},
   "source": [
    "## `NoEmp` (No Cleaning)"
   ]
  },
  {
   "cell_type": "code",
   "execution_count": null,
   "id": "9dfbf7b7-adfe-4f07-b115-152fcdf3c8fb",
   "metadata": {},
   "outputs": [],
   "source": []
  },
  {
   "cell_type": "markdown",
   "id": "4c64d2c3-08eb-4a3b-856b-4a536a31b7ff",
   "metadata": {},
   "source": [
    "## `NewExist`"
   ]
  },
  {
   "cell_type": "code",
   "execution_count": 24,
   "id": "d9c3d358-f240-49dd-93bc-470182ab37e4",
   "metadata": {},
   "outputs": [],
   "source": [
    "def encode_NewExist(x: float) -> str:\n",
    "    if x > 1.5:\n",
    "        return \"Y\"\n",
    "    return \"N\"\n",
    "\n",
    "df.NewExist = df.NewExist.map(encode_NewExist)"
   ]
  },
  {
   "cell_type": "markdown",
   "id": "557b6111-fc71-4448-ad71-18c5feddff07",
   "metadata": {},
   "source": [
    "## `CreateJob` (No Cleaning)"
   ]
  },
  {
   "cell_type": "markdown",
   "id": "3a6b7b9e-8873-4865-8fa3-a781eb08166c",
   "metadata": {},
   "source": [
    "## `RetainedJob` (No Cleaning)"
   ]
  },
  {
   "cell_type": "markdown",
   "id": "36d515a5-f6dc-4cb1-86b4-dbef2b434a7d",
   "metadata": {},
   "source": [
    "## `FranchiseCode` (YN)"
   ]
  },
  {
   "cell_type": "code",
   "execution_count": 25,
   "id": "de324dee-a313-49e5-a1c0-8a760e4017fb",
   "metadata": {},
   "outputs": [],
   "source": [
    "def is_franchise(code: int) -> str:\n",
    "    return \"N\" if code in (0, 1) else \"Y\"\n",
    "\n",
    "df.FranchiseCode = df.FranchiseCode.map(is_franchise)\n",
    "df = df.rename(columns = {\"FranchiseCode\": \"Franchise\"})"
   ]
  },
  {
   "cell_type": "markdown",
   "id": "96ba55ea-b119-4c03-8f2d-e69ae484787f",
   "metadata": {},
   "source": [
    "## `UrbanRural` (URM)"
   ]
  },
  {
   "cell_type": "code",
   "execution_count": 26,
   "id": "2a8ca504-1569-4525-93c4-cb510ee1abaf",
   "metadata": {},
   "outputs": [],
   "source": [
    "df.UrbanRural = df.UrbanRural.map({0: \"M\", 1: \"U\", 2: \"R\"})"
   ]
  },
  {
   "cell_type": "markdown",
   "id": "78358f0c-4b6a-45ad-9086-6bee742f994e",
   "metadata": {},
   "source": [
    "## `RevLineCr` (YNUnknow)"
   ]
  },
  {
   "cell_type": "code",
   "execution_count": 27,
   "id": "da3ef89f-0e8e-418e-b33d-05866719dbc9",
   "metadata": {},
   "outputs": [],
   "source": [
    "def encode_RevLineCr(x: 'object') -> str:\n",
    "    if x in (\"N\", \"Y\"):\n",
    "        return x\n",
    "    return \"Unknown\"\n",
    "\n",
    "df.RevLineCr = df.RevLineCr.map(encode_RevLineCr)"
   ]
  },
  {
   "cell_type": "markdown",
   "id": "0ba0388b-88fe-4458-87ad-d69df2650d8b",
   "metadata": {},
   "source": [
    "## `LowDoc` (YN)"
   ]
  },
  {
   "cell_type": "code",
   "execution_count": 28,
   "id": "adc2f30f-d203-4830-9aad-6193dd5c3868",
   "metadata": {},
   "outputs": [],
   "source": [
    "def encode_LowDoc(s: \"object\") -> str:\n",
    "    if s == \"N\":\n",
    "        return s\n",
    "    return \"Y\"\n",
    "\n",
    "df.LowDoc = df.LowDoc.map(encode_LowDoc)"
   ]
  },
  {
   "cell_type": "markdown",
   "id": "6cadfb47-6d86-400b-b1e4-2b33ae5e6ca3",
   "metadata": {},
   "source": [
    "## `GrAppv` (Convert to float)"
   ]
  },
  {
   "cell_type": "code",
   "execution_count": 29,
   "id": "34597ff2-d3e5-4cc4-a509-6edadf751c6f",
   "metadata": {},
   "outputs": [],
   "source": [
    "df.GrAppv = df.GrAppv.map(amount_to_float)"
   ]
  },
  {
   "cell_type": "markdown",
   "id": "9914ccc8-0075-49bc-bbec-63315a693628",
   "metadata": {},
   "source": [
    "## `SBA_Appv` (No cleaning)"
   ]
  },
  {
   "cell_type": "code",
   "execution_count": 30,
   "id": "c820c4ae-ab8d-4301-b45d-f88e434283bc",
   "metadata": {},
   "outputs": [],
   "source": [
    "df.SBA_Appv = df.SBA_Appv.map(amount_to_float)"
   ]
  },
  {
   "cell_type": "markdown",
   "id": "0ef4d799-2f3e-4233-bf21-f46c3a83a46f",
   "metadata": {},
   "source": [
    "# Check-Up and Export"
   ]
  },
  {
   "cell_type": "markdown",
   "id": "cfe2fe8d-c666-4918-95c2-6a15cf8845df",
   "metadata": {},
   "source": [
    "## Drop `ApprovalDate`, `ApprovalFY`, `City`, `Name` and `Zip`"
   ]
  },
  {
   "cell_type": "code",
   "execution_count": 31,
   "id": "4f3913a4-5620-421d-b25f-edfaa3c2fdf4",
   "metadata": {},
   "outputs": [],
   "source": [
    "df = df.drop(columns=[\"ApprovalDate\", \"ApprovalFY\", \"City\",\n",
    "                      \"LoanNr_ChkDgt\", \"Name\", \"Zip\"])"
   ]
  },
  {
   "cell_type": "markdown",
   "id": "d0196ade-2212-4915-8d3b-cd561372b9a5",
   "metadata": {},
   "source": [
    "## Reordering Columns"
   ]
  },
  {
   "cell_type": "code",
   "execution_count": 32,
   "id": "c0e8dd5c-82f3-49f0-bfa5-87fd9f1ab6c5",
   "metadata": {},
   "outputs": [
    {
     "data": {
      "text/plain": [
       "Index(['State', 'Bank', 'BankState', 'NAICS', 'Term', 'NoEmp', 'NewExist',\n",
       "       'CreateJob', 'RetainedJob', 'Franchise', 'UrbanRural', 'RevLineCr',\n",
       "       'LowDoc', 'MIS_Status', 'GrAppv', 'SBA_Appv', 'Region', 'SameState',\n",
       "       'ApprovalMonth', 'ApprovalDoW', 'Recession'],\n",
       "      dtype='object')"
      ]
     },
     "execution_count": 32,
     "metadata": {},
     "output_type": "execute_result"
    }
   ],
   "source": [
    "df.columns"
   ]
  },
  {
   "cell_type": "code",
   "execution_count": 33,
   "id": "a9952040-f048-47ad-8659-b8091255c764",
   "metadata": {},
   "outputs": [],
   "source": [
    "df = df[['State', 'Region', 'Bank', 'BankState', 'SameState',\n",
    "         'NAICS', 'ApprovalMonth', 'ApprovalDoW', 'Recession',\n",
    "         'Term', 'NewExist', 'NoEmp', 'CreateJob', 'RetainedJob',\n",
    "         'Franchise', 'UrbanRural', 'RevLineCr', 'LowDoc',\n",
    "         'GrAppv', 'SBA_Appv', 'MIS_Status']]"
   ]
  },
  {
   "cell_type": "markdown",
   "id": "a851218b-b1b0-455f-a019-f13e3548146c",
   "metadata": {},
   "source": [
    "## Checkout `NaN`"
   ]
  },
  {
   "cell_type": "code",
   "execution_count": 34,
   "id": "f3139dbd-9413-4153-9366-4266ee9a450c",
   "metadata": {},
   "outputs": [
    {
     "data": {
      "text/plain": [
       "State               0\n",
       "Region              0\n",
       "Bank                0\n",
       "BankState           0\n",
       "SameState           0\n",
       "NAICS               0\n",
       "ApprovalMonth       0\n",
       "ApprovalDoW         0\n",
       "Recession           0\n",
       "Term                0\n",
       "NewExist            0\n",
       "NoEmp               0\n",
       "CreateJob           0\n",
       "RetainedJob         0\n",
       "Franchise           0\n",
       "UrbanRural          0\n",
       "RevLineCr           0\n",
       "LowDoc              0\n",
       "GrAppv              0\n",
       "SBA_Appv            0\n",
       "MIS_Status       1996\n",
       "dtype: int64"
      ]
     },
     "execution_count": 34,
     "metadata": {},
     "output_type": "execute_result"
    }
   ],
   "source": [
    "df.isna().sum()"
   ]
  },
  {
   "cell_type": "markdown",
   "id": "6b25b4b0-79d6-4619-ba1e-d096c75ee2b8",
   "metadata": {},
   "source": [
    "## Missing Values in Target"
   ]
  },
  {
   "cell_type": "code",
   "execution_count": 35,
   "id": "bb9e882f-9bae-409e-ac62-ef4cf2ab9f95",
   "metadata": {
    "scrolled": true
   },
   "outputs": [],
   "source": [
    "df_na_target = df.query(\"MIS_Status.isna()\")"
   ]
  },
  {
   "cell_type": "code",
   "execution_count": 36,
   "id": "6e7c7c0f-aaa6-4f78-af04-9ba35ca3d1c5",
   "metadata": {},
   "outputs": [],
   "source": [
    "df = df.query(\"not MIS_Status.isna()\")"
   ]
  },
  {
   "cell_type": "markdown",
   "id": "0adb3ef1-ae46-43a1-a77f-a636c4530830",
   "metadata": {},
   "source": [
    "## 💿 Export"
   ]
  },
  {
   "cell_type": "code",
   "execution_count": 37,
   "id": "9c0d5fc4-f0f7-404a-947b-86403d7a4200",
   "metadata": {},
   "outputs": [],
   "source": [
    "df.to_csv(\"../data/cleaned_df.csv\")"
   ]
  },
  {
   "cell_type": "code",
   "execution_count": 38,
   "id": "b030cacb-87b3-46df-9e65-c30956e28b2c",
   "metadata": {},
   "outputs": [],
   "source": [
    "df_na_target.to_csv(\"../data/cleaned_test.csv\")"
   ]
  },
  {
   "cell_type": "code",
   "execution_count": null,
   "id": "88b42511-6b5e-4cbd-a5b1-ceb15dc9652a",
   "metadata": {},
   "outputs": [],
   "source": []
  }
 ],
 "metadata": {
  "kernelspec": {
   "display_name": "Python 3 (ipykernel)",
   "language": "python",
   "name": "python3"
  },
  "language_info": {
   "codemirror_mode": {
    "name": "ipython",
    "version": 3
   },
   "file_extension": ".py",
   "mimetype": "text/x-python",
   "name": "python",
   "nbconvert_exporter": "python",
   "pygments_lexer": "ipython3",
   "version": "3.10.12"
  }
 },
 "nbformat": 4,
 "nbformat_minor": 5
}
